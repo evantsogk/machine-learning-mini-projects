{
 "cells": [
  {
   "cell_type": "markdown",
   "metadata": {},
   "source": [
    "# Seoul Bike Sharing Demand Prediction"
   ]
  },
  {
   "cell_type": "code",
   "execution_count": 207,
   "metadata": {},
   "outputs": [],
   "source": [
    "import pandas as pd\n",
    "import numpy as np\n",
    "import time\n",
    "from sklearn.model_selection import train_test_split, GridSearchCV\n",
    "from sklearn.pipeline import Pipeline\n",
    "from sklearn.preprocessing import StandardScaler, MinMaxScaler, LabelEncoder\n",
    "from sklearn.feature_selection import RFECV\n",
    "from sklearn.decomposition import PCA\n",
    "from sklearn.metrics import mean_squared_log_error\n",
    "from sklearn.linear_model import Lasso, Ridge, ElasticNet\n",
    "from sklearn.svm import SVR\n",
    "from sklearn.neural_network import MLPRegressor\n",
    "from sklearn.experimental import enable_hist_gradient_boosting\n",
    "from sklearn.ensemble import ExtraTreesRegressor, HistGradientBoostingRegressor"
   ]
  },
  {
   "cell_type": "markdown",
   "metadata": {},
   "source": [
    "## Dataset\n",
    "\n",
    "Το dataset που θα χρησιμοποιήσουμε υπάρχει στο UCI https://archive.ics.uci.edu/ml/datasets/Seoul+Bike+Sharing+Demand. Τα δεδομένα αφορούν την ενοίκιαση ποδηλάτων στην πόλη Seoul και ο σκοπός είναι η πρόβλεψη του αριθμού ποδηλάτων που θα ενοικιαστούν κάθε ώρα, προκειμένου να οργανωθεί η διαθεσιμότητά τους. Τα χαρακτηριστικά που διαθέτουμε είναι τα εξής 13:\n",
    "\n",
    "- Date: χρονιά-μήνας-μέρα\n",
    "- Hour: ώρα της μέρας\n",
    "- Temperature: θερμοκρασία σε βαθμούς Κελσίου\n",
    "- Humidity: ποσοστό υγρασίας\n",
    "- Windspeed: ταχύτητα αέρα σε m/s\n",
    "- Visibility: ορατότητα στα 10 μέτρα\n",
    "- Dew point temperature: θερμοκρασία σημείου δρόσου σε βαθμούς Κελσίου\n",
    "- Solar radiation: ηλιακή ακτινοβολία σε MJ/m2\n",
    "- Rainfall: βροχόπτωση σε mm\n",
    "- Snowfall: χιονόπτωση σε cm\n",
    "- Seasons: εποχή\n",
    "- Holiday: αν είναι μέρα διακοπών ή όχι\n",
    "- Functional Day: αν είναι εργάσιμη μέρα ή όχι\n",
    "\n",
    "και η μεταβλητή προς πρόβλεψη είναι η:\n",
    "\n",
    "- Rented Bike count: αριθμός ενοικιασμένων ποδηλάτων ανά ώρα\n",
    "\n",
    "Το dataset αποτελείται από 8760 δείγματα και τα χαρακτηριστικά είναι μίξη κατηγορικών και αριθμητικών. Το σύμβολο °C στους βαθμούς Κελσίου δημιουργεί πρόβλημα κατά την ανάγνωση οπότε το διαγράφουμε από το αρχείο .csv."
   ]
  },
  {
   "cell_type": "code",
   "execution_count": 208,
   "metadata": {},
   "outputs": [],
   "source": [
    "# load data\n",
    "data = pd.read_csv('data/SeoulBikeData.csv')"
   ]
  },
  {
   "cell_type": "code",
   "execution_count": 209,
   "metadata": {},
   "outputs": [
    {
     "data": {
      "text/html": [
       "<div>\n",
       "<style scoped>\n",
       "    .dataframe tbody tr th:only-of-type {\n",
       "        vertical-align: middle;\n",
       "    }\n",
       "\n",
       "    .dataframe tbody tr th {\n",
       "        vertical-align: top;\n",
       "    }\n",
       "\n",
       "    .dataframe thead th {\n",
       "        text-align: right;\n",
       "    }\n",
       "</style>\n",
       "<table border=\"1\" class=\"dataframe\">\n",
       "  <thead>\n",
       "    <tr style=\"text-align: right;\">\n",
       "      <th></th>\n",
       "      <th>Date</th>\n",
       "      <th>Rented Bike Count</th>\n",
       "      <th>Hour</th>\n",
       "      <th>Temperature(C)</th>\n",
       "      <th>Humidity(%)</th>\n",
       "      <th>Wind speed (m/s)</th>\n",
       "      <th>Visibility (10m)</th>\n",
       "      <th>Dew point temperature(C)</th>\n",
       "      <th>Solar Radiation (MJ/m2)</th>\n",
       "      <th>Rainfall(mm)</th>\n",
       "      <th>Snowfall (cm)</th>\n",
       "      <th>Seasons</th>\n",
       "      <th>Holiday</th>\n",
       "      <th>Functioning Day</th>\n",
       "    </tr>\n",
       "  </thead>\n",
       "  <tbody>\n",
       "    <tr>\n",
       "      <th>0</th>\n",
       "      <td>01/12/2017</td>\n",
       "      <td>254</td>\n",
       "      <td>0</td>\n",
       "      <td>-5.2</td>\n",
       "      <td>37</td>\n",
       "      <td>2.2</td>\n",
       "      <td>2000</td>\n",
       "      <td>-17.6</td>\n",
       "      <td>0.0</td>\n",
       "      <td>0.0</td>\n",
       "      <td>0.0</td>\n",
       "      <td>Winter</td>\n",
       "      <td>No Holiday</td>\n",
       "      <td>Yes</td>\n",
       "    </tr>\n",
       "    <tr>\n",
       "      <th>1</th>\n",
       "      <td>01/12/2017</td>\n",
       "      <td>204</td>\n",
       "      <td>1</td>\n",
       "      <td>-5.5</td>\n",
       "      <td>38</td>\n",
       "      <td>0.8</td>\n",
       "      <td>2000</td>\n",
       "      <td>-17.6</td>\n",
       "      <td>0.0</td>\n",
       "      <td>0.0</td>\n",
       "      <td>0.0</td>\n",
       "      <td>Winter</td>\n",
       "      <td>No Holiday</td>\n",
       "      <td>Yes</td>\n",
       "    </tr>\n",
       "    <tr>\n",
       "      <th>2</th>\n",
       "      <td>01/12/2017</td>\n",
       "      <td>173</td>\n",
       "      <td>2</td>\n",
       "      <td>-6.0</td>\n",
       "      <td>39</td>\n",
       "      <td>1.0</td>\n",
       "      <td>2000</td>\n",
       "      <td>-17.7</td>\n",
       "      <td>0.0</td>\n",
       "      <td>0.0</td>\n",
       "      <td>0.0</td>\n",
       "      <td>Winter</td>\n",
       "      <td>No Holiday</td>\n",
       "      <td>Yes</td>\n",
       "    </tr>\n",
       "    <tr>\n",
       "      <th>3</th>\n",
       "      <td>01/12/2017</td>\n",
       "      <td>107</td>\n",
       "      <td>3</td>\n",
       "      <td>-6.2</td>\n",
       "      <td>40</td>\n",
       "      <td>0.9</td>\n",
       "      <td>2000</td>\n",
       "      <td>-17.6</td>\n",
       "      <td>0.0</td>\n",
       "      <td>0.0</td>\n",
       "      <td>0.0</td>\n",
       "      <td>Winter</td>\n",
       "      <td>No Holiday</td>\n",
       "      <td>Yes</td>\n",
       "    </tr>\n",
       "    <tr>\n",
       "      <th>4</th>\n",
       "      <td>01/12/2017</td>\n",
       "      <td>78</td>\n",
       "      <td>4</td>\n",
       "      <td>-6.0</td>\n",
       "      <td>36</td>\n",
       "      <td>2.3</td>\n",
       "      <td>2000</td>\n",
       "      <td>-18.6</td>\n",
       "      <td>0.0</td>\n",
       "      <td>0.0</td>\n",
       "      <td>0.0</td>\n",
       "      <td>Winter</td>\n",
       "      <td>No Holiday</td>\n",
       "      <td>Yes</td>\n",
       "    </tr>\n",
       "  </tbody>\n",
       "</table>\n",
       "</div>"
      ],
      "text/plain": [
       "         Date  Rented Bike Count  Hour  Temperature(C)  Humidity(%)  \\\n",
       "0  01/12/2017                254     0            -5.2           37   \n",
       "1  01/12/2017                204     1            -5.5           38   \n",
       "2  01/12/2017                173     2            -6.0           39   \n",
       "3  01/12/2017                107     3            -6.2           40   \n",
       "4  01/12/2017                 78     4            -6.0           36   \n",
       "\n",
       "   Wind speed (m/s)  Visibility (10m)  Dew point temperature(C)  \\\n",
       "0               2.2              2000                     -17.6   \n",
       "1               0.8              2000                     -17.6   \n",
       "2               1.0              2000                     -17.7   \n",
       "3               0.9              2000                     -17.6   \n",
       "4               2.3              2000                     -18.6   \n",
       "\n",
       "   Solar Radiation (MJ/m2)  Rainfall(mm)  Snowfall (cm) Seasons     Holiday  \\\n",
       "0                      0.0           0.0            0.0  Winter  No Holiday   \n",
       "1                      0.0           0.0            0.0  Winter  No Holiday   \n",
       "2                      0.0           0.0            0.0  Winter  No Holiday   \n",
       "3                      0.0           0.0            0.0  Winter  No Holiday   \n",
       "4                      0.0           0.0            0.0  Winter  No Holiday   \n",
       "\n",
       "  Functioning Day  \n",
       "0             Yes  \n",
       "1             Yes  \n",
       "2             Yes  \n",
       "3             Yes  \n",
       "4             Yes  "
      ]
     },
     "execution_count": 209,
     "metadata": {},
     "output_type": "execute_result"
    }
   ],
   "source": [
    "data.head()"
   ]
  },
  {
   "cell_type": "code",
   "execution_count": 210,
   "metadata": {},
   "outputs": [
    {
     "data": {
      "text/plain": [
       "(8760, 14)"
      ]
     },
     "execution_count": 210,
     "metadata": {},
     "output_type": "execute_result"
    }
   ],
   "source": [
    "data.shape"
   ]
  },
  {
   "cell_type": "code",
   "execution_count": 211,
   "metadata": {},
   "outputs": [
    {
     "data": {
      "text/plain": [
       "Date                         object\n",
       "Rented Bike Count             int64\n",
       "Hour                          int64\n",
       "Temperature(C)              float64\n",
       "Humidity(%)                   int64\n",
       "Wind speed (m/s)            float64\n",
       "Visibility (10m)              int64\n",
       "Dew point temperature(C)    float64\n",
       "Solar Radiation (MJ/m2)     float64\n",
       "Rainfall(mm)                float64\n",
       "Snowfall (cm)               float64\n",
       "Seasons                      object\n",
       "Holiday                      object\n",
       "Functioning Day              object\n",
       "dtype: object"
      ]
     },
     "execution_count": 211,
     "metadata": {},
     "output_type": "execute_result"
    }
   ],
   "source": [
    "data.dtypes"
   ]
  },
  {
   "cell_type": "code",
   "execution_count": 212,
   "metadata": {},
   "outputs": [
    {
     "data": {
      "text/html": [
       "<div>\n",
       "<style scoped>\n",
       "    .dataframe tbody tr th:only-of-type {\n",
       "        vertical-align: middle;\n",
       "    }\n",
       "\n",
       "    .dataframe tbody tr th {\n",
       "        vertical-align: top;\n",
       "    }\n",
       "\n",
       "    .dataframe thead th {\n",
       "        text-align: right;\n",
       "    }\n",
       "</style>\n",
       "<table border=\"1\" class=\"dataframe\">\n",
       "  <thead>\n",
       "    <tr style=\"text-align: right;\">\n",
       "      <th></th>\n",
       "      <th>Date</th>\n",
       "      <th>Rented Bike Count</th>\n",
       "      <th>Hour</th>\n",
       "      <th>Temperature(C)</th>\n",
       "      <th>Humidity(%)</th>\n",
       "      <th>Wind speed (m/s)</th>\n",
       "      <th>Visibility (10m)</th>\n",
       "      <th>Dew point temperature(C)</th>\n",
       "      <th>Solar Radiation (MJ/m2)</th>\n",
       "      <th>Rainfall(mm)</th>\n",
       "      <th>Snowfall (cm)</th>\n",
       "      <th>Seasons</th>\n",
       "      <th>Holiday</th>\n",
       "      <th>Functioning Day</th>\n",
       "    </tr>\n",
       "  </thead>\n",
       "  <tbody>\n",
       "    <tr>\n",
       "      <th>count</th>\n",
       "      <td>8760</td>\n",
       "      <td>8760.000000</td>\n",
       "      <td>8760.000000</td>\n",
       "      <td>8760.000000</td>\n",
       "      <td>8760.000000</td>\n",
       "      <td>8760.000000</td>\n",
       "      <td>8760.000000</td>\n",
       "      <td>8760.000000</td>\n",
       "      <td>8760.000000</td>\n",
       "      <td>8760.000000</td>\n",
       "      <td>8760.000000</td>\n",
       "      <td>8760</td>\n",
       "      <td>8760</td>\n",
       "      <td>8760</td>\n",
       "    </tr>\n",
       "    <tr>\n",
       "      <th>unique</th>\n",
       "      <td>365</td>\n",
       "      <td>NaN</td>\n",
       "      <td>NaN</td>\n",
       "      <td>NaN</td>\n",
       "      <td>NaN</td>\n",
       "      <td>NaN</td>\n",
       "      <td>NaN</td>\n",
       "      <td>NaN</td>\n",
       "      <td>NaN</td>\n",
       "      <td>NaN</td>\n",
       "      <td>NaN</td>\n",
       "      <td>4</td>\n",
       "      <td>2</td>\n",
       "      <td>2</td>\n",
       "    </tr>\n",
       "    <tr>\n",
       "      <th>top</th>\n",
       "      <td>16/03/2018</td>\n",
       "      <td>NaN</td>\n",
       "      <td>NaN</td>\n",
       "      <td>NaN</td>\n",
       "      <td>NaN</td>\n",
       "      <td>NaN</td>\n",
       "      <td>NaN</td>\n",
       "      <td>NaN</td>\n",
       "      <td>NaN</td>\n",
       "      <td>NaN</td>\n",
       "      <td>NaN</td>\n",
       "      <td>Spring</td>\n",
       "      <td>No Holiday</td>\n",
       "      <td>Yes</td>\n",
       "    </tr>\n",
       "    <tr>\n",
       "      <th>freq</th>\n",
       "      <td>24</td>\n",
       "      <td>NaN</td>\n",
       "      <td>NaN</td>\n",
       "      <td>NaN</td>\n",
       "      <td>NaN</td>\n",
       "      <td>NaN</td>\n",
       "      <td>NaN</td>\n",
       "      <td>NaN</td>\n",
       "      <td>NaN</td>\n",
       "      <td>NaN</td>\n",
       "      <td>NaN</td>\n",
       "      <td>2208</td>\n",
       "      <td>8328</td>\n",
       "      <td>8465</td>\n",
       "    </tr>\n",
       "    <tr>\n",
       "      <th>mean</th>\n",
       "      <td>NaN</td>\n",
       "      <td>704.602055</td>\n",
       "      <td>11.500000</td>\n",
       "      <td>12.882922</td>\n",
       "      <td>58.226256</td>\n",
       "      <td>1.724909</td>\n",
       "      <td>1436.825799</td>\n",
       "      <td>4.073813</td>\n",
       "      <td>0.569111</td>\n",
       "      <td>0.148687</td>\n",
       "      <td>0.075068</td>\n",
       "      <td>NaN</td>\n",
       "      <td>NaN</td>\n",
       "      <td>NaN</td>\n",
       "    </tr>\n",
       "    <tr>\n",
       "      <th>std</th>\n",
       "      <td>NaN</td>\n",
       "      <td>644.997468</td>\n",
       "      <td>6.922582</td>\n",
       "      <td>11.944825</td>\n",
       "      <td>20.362413</td>\n",
       "      <td>1.036300</td>\n",
       "      <td>608.298712</td>\n",
       "      <td>13.060369</td>\n",
       "      <td>0.868746</td>\n",
       "      <td>1.128193</td>\n",
       "      <td>0.436746</td>\n",
       "      <td>NaN</td>\n",
       "      <td>NaN</td>\n",
       "      <td>NaN</td>\n",
       "    </tr>\n",
       "    <tr>\n",
       "      <th>min</th>\n",
       "      <td>NaN</td>\n",
       "      <td>0.000000</td>\n",
       "      <td>0.000000</td>\n",
       "      <td>-17.800000</td>\n",
       "      <td>0.000000</td>\n",
       "      <td>0.000000</td>\n",
       "      <td>27.000000</td>\n",
       "      <td>-30.600000</td>\n",
       "      <td>0.000000</td>\n",
       "      <td>0.000000</td>\n",
       "      <td>0.000000</td>\n",
       "      <td>NaN</td>\n",
       "      <td>NaN</td>\n",
       "      <td>NaN</td>\n",
       "    </tr>\n",
       "    <tr>\n",
       "      <th>25%</th>\n",
       "      <td>NaN</td>\n",
       "      <td>191.000000</td>\n",
       "      <td>5.750000</td>\n",
       "      <td>3.500000</td>\n",
       "      <td>42.000000</td>\n",
       "      <td>0.900000</td>\n",
       "      <td>940.000000</td>\n",
       "      <td>-4.700000</td>\n",
       "      <td>0.000000</td>\n",
       "      <td>0.000000</td>\n",
       "      <td>0.000000</td>\n",
       "      <td>NaN</td>\n",
       "      <td>NaN</td>\n",
       "      <td>NaN</td>\n",
       "    </tr>\n",
       "    <tr>\n",
       "      <th>50%</th>\n",
       "      <td>NaN</td>\n",
       "      <td>504.500000</td>\n",
       "      <td>11.500000</td>\n",
       "      <td>13.700000</td>\n",
       "      <td>57.000000</td>\n",
       "      <td>1.500000</td>\n",
       "      <td>1698.000000</td>\n",
       "      <td>5.100000</td>\n",
       "      <td>0.010000</td>\n",
       "      <td>0.000000</td>\n",
       "      <td>0.000000</td>\n",
       "      <td>NaN</td>\n",
       "      <td>NaN</td>\n",
       "      <td>NaN</td>\n",
       "    </tr>\n",
       "    <tr>\n",
       "      <th>75%</th>\n",
       "      <td>NaN</td>\n",
       "      <td>1065.250000</td>\n",
       "      <td>17.250000</td>\n",
       "      <td>22.500000</td>\n",
       "      <td>74.000000</td>\n",
       "      <td>2.300000</td>\n",
       "      <td>2000.000000</td>\n",
       "      <td>14.800000</td>\n",
       "      <td>0.930000</td>\n",
       "      <td>0.000000</td>\n",
       "      <td>0.000000</td>\n",
       "      <td>NaN</td>\n",
       "      <td>NaN</td>\n",
       "      <td>NaN</td>\n",
       "    </tr>\n",
       "    <tr>\n",
       "      <th>max</th>\n",
       "      <td>NaN</td>\n",
       "      <td>3556.000000</td>\n",
       "      <td>23.000000</td>\n",
       "      <td>39.400000</td>\n",
       "      <td>98.000000</td>\n",
       "      <td>7.400000</td>\n",
       "      <td>2000.000000</td>\n",
       "      <td>27.200000</td>\n",
       "      <td>3.520000</td>\n",
       "      <td>35.000000</td>\n",
       "      <td>8.800000</td>\n",
       "      <td>NaN</td>\n",
       "      <td>NaN</td>\n",
       "      <td>NaN</td>\n",
       "    </tr>\n",
       "  </tbody>\n",
       "</table>\n",
       "</div>"
      ],
      "text/plain": [
       "              Date  Rented Bike Count         Hour  Temperature(C)  \\\n",
       "count         8760        8760.000000  8760.000000     8760.000000   \n",
       "unique         365                NaN          NaN             NaN   \n",
       "top     16/03/2018                NaN          NaN             NaN   \n",
       "freq            24                NaN          NaN             NaN   \n",
       "mean           NaN         704.602055    11.500000       12.882922   \n",
       "std            NaN         644.997468     6.922582       11.944825   \n",
       "min            NaN           0.000000     0.000000      -17.800000   \n",
       "25%            NaN         191.000000     5.750000        3.500000   \n",
       "50%            NaN         504.500000    11.500000       13.700000   \n",
       "75%            NaN        1065.250000    17.250000       22.500000   \n",
       "max            NaN        3556.000000    23.000000       39.400000   \n",
       "\n",
       "        Humidity(%)  Wind speed (m/s)  Visibility (10m)  \\\n",
       "count   8760.000000       8760.000000       8760.000000   \n",
       "unique          NaN               NaN               NaN   \n",
       "top             NaN               NaN               NaN   \n",
       "freq            NaN               NaN               NaN   \n",
       "mean      58.226256          1.724909       1436.825799   \n",
       "std       20.362413          1.036300        608.298712   \n",
       "min        0.000000          0.000000         27.000000   \n",
       "25%       42.000000          0.900000        940.000000   \n",
       "50%       57.000000          1.500000       1698.000000   \n",
       "75%       74.000000          2.300000       2000.000000   \n",
       "max       98.000000          7.400000       2000.000000   \n",
       "\n",
       "        Dew point temperature(C)  Solar Radiation (MJ/m2)  Rainfall(mm)  \\\n",
       "count                8760.000000              8760.000000   8760.000000   \n",
       "unique                       NaN                      NaN           NaN   \n",
       "top                          NaN                      NaN           NaN   \n",
       "freq                         NaN                      NaN           NaN   \n",
       "mean                    4.073813                 0.569111      0.148687   \n",
       "std                    13.060369                 0.868746      1.128193   \n",
       "min                   -30.600000                 0.000000      0.000000   \n",
       "25%                    -4.700000                 0.000000      0.000000   \n",
       "50%                     5.100000                 0.010000      0.000000   \n",
       "75%                    14.800000                 0.930000      0.000000   \n",
       "max                    27.200000                 3.520000     35.000000   \n",
       "\n",
       "        Snowfall (cm) Seasons     Holiday Functioning Day  \n",
       "count     8760.000000    8760        8760            8760  \n",
       "unique            NaN       4           2               2  \n",
       "top               NaN  Spring  No Holiday             Yes  \n",
       "freq              NaN    2208        8328            8465  \n",
       "mean         0.075068     NaN         NaN             NaN  \n",
       "std          0.436746     NaN         NaN             NaN  \n",
       "min          0.000000     NaN         NaN             NaN  \n",
       "25%          0.000000     NaN         NaN             NaN  \n",
       "50%          0.000000     NaN         NaN             NaN  \n",
       "75%          0.000000     NaN         NaN             NaN  \n",
       "max          8.800000     NaN         NaN             NaN  "
      ]
     },
     "execution_count": 212,
     "metadata": {},
     "output_type": "execute_result"
    }
   ],
   "source": [
    "# Quick summary statistics of the dataset features\n",
    "data.describe(include='all')"
   ]
  },
  {
   "cell_type": "markdown",
   "metadata": {},
   "source": [
    "Με τις παραπάνω εξόδους επιβεβαιώνουμε τον αριθμό δειγμάτων και χαρακτηριστικών, καθώς και τον τύπο τους. Στη συνέχεια, ελέγχουμε αν υπάρχουν απουσιάζουσες τιμές."
   ]
  },
  {
   "cell_type": "code",
   "execution_count": 213,
   "metadata": {},
   "outputs": [
    {
     "data": {
      "text/plain": [
       "Date                        0\n",
       "Rented Bike Count           0\n",
       "Hour                        0\n",
       "Temperature(C)              0\n",
       "Humidity(%)                 0\n",
       "Wind speed (m/s)            0\n",
       "Visibility (10m)            0\n",
       "Dew point temperature(C)    0\n",
       "Solar Radiation (MJ/m2)     0\n",
       "Rainfall(mm)                0\n",
       "Snowfall (cm)               0\n",
       "Seasons                     0\n",
       "Holiday                     0\n",
       "Functioning Day             0\n",
       "dtype: int64"
      ]
     },
     "execution_count": 213,
     "metadata": {},
     "output_type": "execute_result"
    }
   ],
   "source": [
    "data.isnull().sum()"
   ]
  },
  {
   "cell_type": "markdown",
   "metadata": {},
   "source": [
    "Παρατηρούμε πως δεν απουσιάζει καμία τιμή."
   ]
  },
  {
   "cell_type": "markdown",
   "metadata": {},
   "source": [
    "## Data Preprocessing"
   ]
  },
  {
   "cell_type": "markdown",
   "metadata": {},
   "source": [
    "Πριν χωρίσουμε τα δεδομένα σε train-test θα κάνουμε κάποιες στοιχειώδεις επεξεργασίες, ώστε να μην επαναλαμβάνουμε την ίδια \n",
    "δουλειά και στο test set, χωρίς κίνδυνο για διαρροή πληροφορίας. Αρχικά μετονομάζουμε τα χαρακτηριστικά για διευκόλυνση."
   ]
  },
  {
   "cell_type": "code",
   "execution_count": 214,
   "metadata": {},
   "outputs": [],
   "source": [
    "data.rename(columns={'Date': 'date', 'Rented Bike Count': 'count', 'Hour': 'hour', 'Temperature(C)': 'temperature',\n",
    "                     'Humidity(%)': 'humidity', 'Wind speed (m/s)': 'wind', 'Visibility (10m)': 'visibility',\n",
    "                     'Dew point temperature(C)': 'dew_point', 'Solar Radiation (MJ/m2)': 'radiation',\n",
    "                     'Rainfall(mm)': 'rainfall', 'Snowfall (cm)': 'snowfall', 'Seasons': 'season', 'Holiday': 'holiday',\n",
    "                     'Functioning Day': 'functioning'}, inplace=True)"
   ]
  },
  {
   "cell_type": "markdown",
   "metadata": {},
   "source": [
    "Στη συνέχεια, θα απομονώσουμε τη μέρα και τον μήνα από την ημερομηνία, ώστε να τα χρησιμοποιήσουμε ως χαρακτηριστικά, καθώς είναι δύσκολο να χρησιμοποιήσουμε την ημερομηνία όπως είναι."
   ]
  },
  {
   "cell_type": "code",
   "execution_count": 215,
   "metadata": {},
   "outputs": [],
   "source": [
    "data['month'] = pd.DatetimeIndex(data['date']).month\n",
    "data['day'] = pd.DatetimeIndex(data['date']).day\n",
    "data.drop(['date'], axis=1, inplace=True)"
   ]
  },
  {
   "cell_type": "code",
   "execution_count": 216,
   "metadata": {},
   "outputs": [
    {
     "data": {
      "text/html": [
       "<div>\n",
       "<style scoped>\n",
       "    .dataframe tbody tr th:only-of-type {\n",
       "        vertical-align: middle;\n",
       "    }\n",
       "\n",
       "    .dataframe tbody tr th {\n",
       "        vertical-align: top;\n",
       "    }\n",
       "\n",
       "    .dataframe thead th {\n",
       "        text-align: right;\n",
       "    }\n",
       "</style>\n",
       "<table border=\"1\" class=\"dataframe\">\n",
       "  <thead>\n",
       "    <tr style=\"text-align: right;\">\n",
       "      <th></th>\n",
       "      <th>count</th>\n",
       "      <th>hour</th>\n",
       "      <th>temperature</th>\n",
       "      <th>humidity</th>\n",
       "      <th>wind</th>\n",
       "      <th>visibility</th>\n",
       "      <th>dew_point</th>\n",
       "      <th>radiation</th>\n",
       "      <th>rainfall</th>\n",
       "      <th>snowfall</th>\n",
       "      <th>season</th>\n",
       "      <th>holiday</th>\n",
       "      <th>functioning</th>\n",
       "      <th>month</th>\n",
       "      <th>day</th>\n",
       "    </tr>\n",
       "  </thead>\n",
       "  <tbody>\n",
       "    <tr>\n",
       "      <th>0</th>\n",
       "      <td>254</td>\n",
       "      <td>0</td>\n",
       "      <td>-5.2</td>\n",
       "      <td>37</td>\n",
       "      <td>2.2</td>\n",
       "      <td>2000</td>\n",
       "      <td>-17.6</td>\n",
       "      <td>0.0</td>\n",
       "      <td>0.0</td>\n",
       "      <td>0.0</td>\n",
       "      <td>Winter</td>\n",
       "      <td>No Holiday</td>\n",
       "      <td>Yes</td>\n",
       "      <td>1</td>\n",
       "      <td>12</td>\n",
       "    </tr>\n",
       "    <tr>\n",
       "      <th>1</th>\n",
       "      <td>204</td>\n",
       "      <td>1</td>\n",
       "      <td>-5.5</td>\n",
       "      <td>38</td>\n",
       "      <td>0.8</td>\n",
       "      <td>2000</td>\n",
       "      <td>-17.6</td>\n",
       "      <td>0.0</td>\n",
       "      <td>0.0</td>\n",
       "      <td>0.0</td>\n",
       "      <td>Winter</td>\n",
       "      <td>No Holiday</td>\n",
       "      <td>Yes</td>\n",
       "      <td>1</td>\n",
       "      <td>12</td>\n",
       "    </tr>\n",
       "    <tr>\n",
       "      <th>2</th>\n",
       "      <td>173</td>\n",
       "      <td>2</td>\n",
       "      <td>-6.0</td>\n",
       "      <td>39</td>\n",
       "      <td>1.0</td>\n",
       "      <td>2000</td>\n",
       "      <td>-17.7</td>\n",
       "      <td>0.0</td>\n",
       "      <td>0.0</td>\n",
       "      <td>0.0</td>\n",
       "      <td>Winter</td>\n",
       "      <td>No Holiday</td>\n",
       "      <td>Yes</td>\n",
       "      <td>1</td>\n",
       "      <td>12</td>\n",
       "    </tr>\n",
       "    <tr>\n",
       "      <th>3</th>\n",
       "      <td>107</td>\n",
       "      <td>3</td>\n",
       "      <td>-6.2</td>\n",
       "      <td>40</td>\n",
       "      <td>0.9</td>\n",
       "      <td>2000</td>\n",
       "      <td>-17.6</td>\n",
       "      <td>0.0</td>\n",
       "      <td>0.0</td>\n",
       "      <td>0.0</td>\n",
       "      <td>Winter</td>\n",
       "      <td>No Holiday</td>\n",
       "      <td>Yes</td>\n",
       "      <td>1</td>\n",
       "      <td>12</td>\n",
       "    </tr>\n",
       "    <tr>\n",
       "      <th>4</th>\n",
       "      <td>78</td>\n",
       "      <td>4</td>\n",
       "      <td>-6.0</td>\n",
       "      <td>36</td>\n",
       "      <td>2.3</td>\n",
       "      <td>2000</td>\n",
       "      <td>-18.6</td>\n",
       "      <td>0.0</td>\n",
       "      <td>0.0</td>\n",
       "      <td>0.0</td>\n",
       "      <td>Winter</td>\n",
       "      <td>No Holiday</td>\n",
       "      <td>Yes</td>\n",
       "      <td>1</td>\n",
       "      <td>12</td>\n",
       "    </tr>\n",
       "  </tbody>\n",
       "</table>\n",
       "</div>"
      ],
      "text/plain": [
       "   count  hour  temperature  humidity  wind  visibility  dew_point  radiation  \\\n",
       "0    254     0         -5.2        37   2.2        2000      -17.6        0.0   \n",
       "1    204     1         -5.5        38   0.8        2000      -17.6        0.0   \n",
       "2    173     2         -6.0        39   1.0        2000      -17.7        0.0   \n",
       "3    107     3         -6.2        40   0.9        2000      -17.6        0.0   \n",
       "4     78     4         -6.0        36   2.3        2000      -18.6        0.0   \n",
       "\n",
       "   rainfall  snowfall  season     holiday functioning  month  day  \n",
       "0       0.0       0.0  Winter  No Holiday         Yes      1   12  \n",
       "1       0.0       0.0  Winter  No Holiday         Yes      1   12  \n",
       "2       0.0       0.0  Winter  No Holiday         Yes      1   12  \n",
       "3       0.0       0.0  Winter  No Holiday         Yes      1   12  \n",
       "4       0.0       0.0  Winter  No Holiday         Yes      1   12  "
      ]
     },
     "execution_count": 216,
     "metadata": {},
     "output_type": "execute_result"
    }
   ],
   "source": [
    "data.head()"
   ]
  },
  {
   "cell_type": "markdown",
   "metadata": {},
   "source": [
    "Στη συνέχεια, θα μετατρέψουμε σε ακεραίους τις κατηγορίες που είναι σε string, δηλαδή τις τιμές των χαρακτηριστικών season, holiday και functioning."
   ]
  },
  {
   "cell_type": "code",
   "execution_count": 217,
   "metadata": {},
   "outputs": [],
   "source": [
    "le = LabelEncoder()\n",
    "for feature in ['season', 'holiday', 'functioning']:\n",
    "    data[feature] = le.fit_transform(data[feature])"
   ]
  },
  {
   "cell_type": "code",
   "execution_count": 218,
   "metadata": {},
   "outputs": [
    {
     "data": {
      "text/html": [
       "<div>\n",
       "<style scoped>\n",
       "    .dataframe tbody tr th:only-of-type {\n",
       "        vertical-align: middle;\n",
       "    }\n",
       "\n",
       "    .dataframe tbody tr th {\n",
       "        vertical-align: top;\n",
       "    }\n",
       "\n",
       "    .dataframe thead th {\n",
       "        text-align: right;\n",
       "    }\n",
       "</style>\n",
       "<table border=\"1\" class=\"dataframe\">\n",
       "  <thead>\n",
       "    <tr style=\"text-align: right;\">\n",
       "      <th></th>\n",
       "      <th>count</th>\n",
       "      <th>hour</th>\n",
       "      <th>temperature</th>\n",
       "      <th>humidity</th>\n",
       "      <th>wind</th>\n",
       "      <th>visibility</th>\n",
       "      <th>dew_point</th>\n",
       "      <th>radiation</th>\n",
       "      <th>rainfall</th>\n",
       "      <th>snowfall</th>\n",
       "      <th>season</th>\n",
       "      <th>holiday</th>\n",
       "      <th>functioning</th>\n",
       "      <th>month</th>\n",
       "      <th>day</th>\n",
       "    </tr>\n",
       "  </thead>\n",
       "  <tbody>\n",
       "    <tr>\n",
       "      <th>0</th>\n",
       "      <td>254</td>\n",
       "      <td>0</td>\n",
       "      <td>-5.2</td>\n",
       "      <td>37</td>\n",
       "      <td>2.2</td>\n",
       "      <td>2000</td>\n",
       "      <td>-17.6</td>\n",
       "      <td>0.0</td>\n",
       "      <td>0.0</td>\n",
       "      <td>0.0</td>\n",
       "      <td>3</td>\n",
       "      <td>1</td>\n",
       "      <td>1</td>\n",
       "      <td>1</td>\n",
       "      <td>12</td>\n",
       "    </tr>\n",
       "    <tr>\n",
       "      <th>1</th>\n",
       "      <td>204</td>\n",
       "      <td>1</td>\n",
       "      <td>-5.5</td>\n",
       "      <td>38</td>\n",
       "      <td>0.8</td>\n",
       "      <td>2000</td>\n",
       "      <td>-17.6</td>\n",
       "      <td>0.0</td>\n",
       "      <td>0.0</td>\n",
       "      <td>0.0</td>\n",
       "      <td>3</td>\n",
       "      <td>1</td>\n",
       "      <td>1</td>\n",
       "      <td>1</td>\n",
       "      <td>12</td>\n",
       "    </tr>\n",
       "    <tr>\n",
       "      <th>2</th>\n",
       "      <td>173</td>\n",
       "      <td>2</td>\n",
       "      <td>-6.0</td>\n",
       "      <td>39</td>\n",
       "      <td>1.0</td>\n",
       "      <td>2000</td>\n",
       "      <td>-17.7</td>\n",
       "      <td>0.0</td>\n",
       "      <td>0.0</td>\n",
       "      <td>0.0</td>\n",
       "      <td>3</td>\n",
       "      <td>1</td>\n",
       "      <td>1</td>\n",
       "      <td>1</td>\n",
       "      <td>12</td>\n",
       "    </tr>\n",
       "    <tr>\n",
       "      <th>3</th>\n",
       "      <td>107</td>\n",
       "      <td>3</td>\n",
       "      <td>-6.2</td>\n",
       "      <td>40</td>\n",
       "      <td>0.9</td>\n",
       "      <td>2000</td>\n",
       "      <td>-17.6</td>\n",
       "      <td>0.0</td>\n",
       "      <td>0.0</td>\n",
       "      <td>0.0</td>\n",
       "      <td>3</td>\n",
       "      <td>1</td>\n",
       "      <td>1</td>\n",
       "      <td>1</td>\n",
       "      <td>12</td>\n",
       "    </tr>\n",
       "    <tr>\n",
       "      <th>4</th>\n",
       "      <td>78</td>\n",
       "      <td>4</td>\n",
       "      <td>-6.0</td>\n",
       "      <td>36</td>\n",
       "      <td>2.3</td>\n",
       "      <td>2000</td>\n",
       "      <td>-18.6</td>\n",
       "      <td>0.0</td>\n",
       "      <td>0.0</td>\n",
       "      <td>0.0</td>\n",
       "      <td>3</td>\n",
       "      <td>1</td>\n",
       "      <td>1</td>\n",
       "      <td>1</td>\n",
       "      <td>12</td>\n",
       "    </tr>\n",
       "  </tbody>\n",
       "</table>\n",
       "</div>"
      ],
      "text/plain": [
       "   count  hour  temperature  humidity  wind  visibility  dew_point  radiation  \\\n",
       "0    254     0         -5.2        37   2.2        2000      -17.6        0.0   \n",
       "1    204     1         -5.5        38   0.8        2000      -17.6        0.0   \n",
       "2    173     2         -6.0        39   1.0        2000      -17.7        0.0   \n",
       "3    107     3         -6.2        40   0.9        2000      -17.6        0.0   \n",
       "4     78     4         -6.0        36   2.3        2000      -18.6        0.0   \n",
       "\n",
       "   rainfall  snowfall  season  holiday  functioning  month  day  \n",
       "0       0.0       0.0       3        1            1      1   12  \n",
       "1       0.0       0.0       3        1            1      1   12  \n",
       "2       0.0       0.0       3        1            1      1   12  \n",
       "3       0.0       0.0       3        1            1      1   12  \n",
       "4       0.0       0.0       3        1            1      1   12  "
      ]
     },
     "execution_count": 218,
     "metadata": {},
     "output_type": "execute_result"
    }
   ],
   "source": [
    "data.head()"
   ]
  },
  {
   "cell_type": "markdown",
   "metadata": {},
   "source": [
    "Τώρα θα μετατρέψουμε τον τύπο των κατηγορικών μεταβλητών, ώστε να αναπαριστούνται ως κατηγορικές. Αυτές είναι οι hour, season, holiday, functioning, month και day."
   ]
  },
  {
   "cell_type": "code",
   "execution_count": 219,
   "metadata": {},
   "outputs": [],
   "source": [
    "data['hour'] = data.hour.astype('category')\n",
    "data['season'] = data.season.astype('category')\n",
    "data['holiday'] = data.holiday.astype('category')\n",
    "data['functioning'] = data.functioning.astype('category')\n",
    "data['month'] = data.month.astype('category')\n",
    "data['day'] = data.day.astype('category')"
   ]
  },
  {
   "cell_type": "code",
   "execution_count": 220,
   "metadata": {},
   "outputs": [
    {
     "data": {
      "text/plain": [
       "count             int64\n",
       "hour           category\n",
       "temperature     float64\n",
       "humidity          int64\n",
       "wind            float64\n",
       "visibility        int64\n",
       "dew_point       float64\n",
       "radiation       float64\n",
       "rainfall        float64\n",
       "snowfall        float64\n",
       "season         category\n",
       "holiday        category\n",
       "functioning    category\n",
       "month          category\n",
       "day            category\n",
       "dtype: object"
      ]
     },
     "execution_count": 220,
     "metadata": {},
     "output_type": "execute_result"
    }
   ],
   "source": [
    "data.dtypes"
   ]
  },
  {
   "cell_type": "markdown",
   "metadata": {},
   "source": [
    "Τώρα θα πρέπει να αποφασίσουμε πώς θα αντιμετωπίσουμε τις κατηγορικές μεταβλητές. Τα χαρακτηριστικά holiday και functioning είναι ήδη binary οπότε δεν μας απασχολούν. Τα χαρακτηριστικά hour, day και month δηλώνουν χρόνο, οπότε έχει νόημα να τα αφήσουμε όπως είναι και επίσης αν τα κάναμε one-hot encode θα εισάγαμε μεγάλο sparsity οπότε θα τα αφήσουμε έτσι. Το season, επίσης μπορούμε να το αφήσουμε ως έχει, αφού και αυτό ουσιαστικά δηλώνει χρόνο.\n",
    "\n",
    "Δεν θα εξετάσουμε τη διακύμανση των δεδομένων, αφού έχουμε ήδη δει από τα στατιστικά πως δεν υπάρχει μηδενική διακύμανση και επίσης θα κάνουμε επιλογή χαρακτηριστικών με cross-validation. Επομένως, προχωρούμε στο διαχωρισμό του dataset σε train και test χρησιμοποιώντας το 30% για test όπως συνηθίζεται."
   ]
  },
  {
   "cell_type": "code",
   "execution_count": 221,
   "metadata": {},
   "outputs": [],
   "source": [
    "# split features and target variable in X and y\n",
    "y = data['count']\n",
    "X = data.drop(['count'], axis=1)\n",
    "\n",
    "# train-test split\n",
    "X_train, X_test, y_train, y_test = train_test_split(X, y, test_size=0.3, random_state=42)"
   ]
  },
  {
   "cell_type": "markdown",
   "metadata": {},
   "source": [
    "Οι τιμές του target count μπορεί να είναι πολύ μεγάλες. Από τα στατιστικά βλέπουμε πως το min είναι 0 ενώ το max πάνω από 3000. Γι' αυτό το λόγο θα μετασχηματίσουμε το target με τον μετασχηματισμό log1p και κατά την πρόβλεψη θα χρησιμοποιούμε τον αντίστροφο μετασχηματισμό expm1. Επίσης, ως μετρική αξιολόγησης θα χρησιμοποιήσουμε την Root Mean Square Logarithmic Error (RMSLE) που χρησιμεύει όταν θέλουμε να τιμωρήσουμε περισσότερο έναν predictor που προβλέπει μικρότερες τιμές απ' ότι θα πρεπε. Αυτό είναι σημαντικό στο πρόβλημά μας, αφού δεν θέλουμε να έχουμε έλλειψη διαθέσιμων ποδηλάτων."
   ]
  },
  {
   "cell_type": "code",
   "execution_count": 222,
   "metadata": {},
   "outputs": [],
   "source": [
    "# log transform\n",
    "y_train = np.log1p(y_train)"
   ]
  },
  {
   "cell_type": "code",
   "execution_count": 223,
   "metadata": {},
   "outputs": [],
   "source": [
    "def rmsle_score(y_true, y_pred):\n",
    "    \"\"\"Returns the root mean squared logarithmic error.\n",
    "    \"\"\"\n",
    "    y_pred[y_pred < 0] = 0  # can't be negative because of the logarithm\n",
    "    y_pred = np.expm1(y_pred)  # inverse transform of log1p\n",
    "\n",
    "    return np.sqrt(mean_squared_log_error(y_true, y_pred))"
   ]
  },
  {
   "cell_type": "markdown",
   "metadata": {},
   "source": [
    "Στη συνέχεια, κάνουμε cross-validate Lasso πάντα χρησιμοποιώντας την παράμετρο κανονικοποίησης alpha, όπου για μικρές τιμές η κανονικοποίηση είναι μικρότερη, ενώ για μεγάλες μεγαλύτερη. Στο cross-validation χρησιμοποιούμε negative mean squared error για score και 5 folds, αφού το dataset δεν είναι τόσο μικρό.\n",
    "\n",
    "Αρχικά, εξετάζουμε την μορφή κανονικοποίησης των δεδομένων, μεταξύ καθόλου scaling, min-max scaler ή standard scaler. "
   ]
  },
  {
   "cell_type": "code",
   "execution_count": 224,
   "metadata": {},
   "outputs": [
    {
     "name": "stdout",
     "output_type": "stream",
     "text": [
      "-0.5270082810206048\n",
      "{'alpha': 0.0001}\n"
     ]
    }
   ],
   "source": [
    "# no scaler\n",
    "lasso = Lasso(alpha=1.0, max_iter=2000, random_state=0)\n",
    "parameters = {'alpha': [1e-6, 1e-5, 1e-4, 0.001, 0.01, 0.1, 1]}\n",
    "lasso_cv = GridSearchCV(lasso, parameters, scoring='neg_mean_squared_error', cv=5, n_jobs=5)\n",
    "lasso_cv.fit(X_train, y_train)\n",
    "\n",
    "print(lasso_cv.best_score_)\n",
    "print(lasso_cv.best_params_)"
   ]
  },
  {
   "cell_type": "code",
   "execution_count": 225,
   "metadata": {},
   "outputs": [
    {
     "name": "stdout",
     "output_type": "stream",
     "text": [
      "-0.5269780698568667\n",
      "{'lasso__alpha': 0.0001}\n"
     ]
    }
   ],
   "source": [
    "# standard scaler\n",
    "lasso = Pipeline([('scaler', StandardScaler()), ('lasso', Lasso(alpha=1.0, random_state=0))])\n",
    "parameters = {'lasso__alpha':[1e-6, 1e-5, 1e-4, 0.001, 0.01, 0.1, 1]}\n",
    "lasso_cv = GridSearchCV(lasso, parameters, scoring='neg_mean_squared_error', cv=5, n_jobs=5)\n",
    "lasso_cv.fit(X_train, y_train)\n",
    "\n",
    "print(lasso_cv.best_score_)\n",
    "print(lasso_cv.best_params_)"
   ]
  },
  {
   "cell_type": "code",
   "execution_count": 226,
   "metadata": {},
   "outputs": [
    {
     "name": "stdout",
     "output_type": "stream",
     "text": [
      "-0.526924411864566\n",
      "{'lasso__alpha': 0.0001}\n"
     ]
    }
   ],
   "source": [
    "# min-max scaler\n",
    "lasso = Pipeline([('scaler', MinMaxScaler()), ('lasso', Lasso(alpha=1.0, random_state=0))])\n",
    "parameters = {'lasso__alpha': [1e-6, 1e-5, 1e-4, 0.001, 0.01, 0.1, 1]}\n",
    "lasso_cv = GridSearchCV(lasso, parameters, scoring='neg_mean_squared_error', cv=5, n_jobs=5)\n",
    "lasso_cv.fit(X_train, y_train)\n",
    "\n",
    "print(lasso_cv.best_score_)\n",
    "print(lasso_cv.best_params_)"
   ]
  },
  {
   "cell_type": "markdown",
   "metadata": {},
   "source": [
    "Δεν βλέπουμε μεγάλες διαφορές, αλλά θα χρησιμοποιήσουμε τον min-max scaler που φαίνεται λίγο καλύτερος. Επίσης, παρατηρούμε πως όταν κάνουμε scale τα δεδομένα κάνει πιο γρήγορα converge η Lasso, αφού χωρίς scale οι 1000 επαναλήψεις που είναι το default max δεν έφταναν."
   ]
  },
  {
   "cell_type": "code",
   "execution_count": 227,
   "metadata": {},
   "outputs": [],
   "source": [
    "# scaling\n",
    "scaler = MinMaxScaler()\n",
    "X_train = scaler.fit_transform(X_train)\n",
    "X_test = scaler.transform(X_test)"
   ]
  },
  {
   "cell_type": "markdown",
   "metadata": {},
   "source": [
    "## Feature Selection / Extraction\n",
    "\n",
    "Στη συνέχεια κάνουμε feature selection χρησιμοποιώντας τη μέθοδο recursive feature elimination με cross-validation με το μοντέλο Lasso, ώστε να αφαιρέσουμε χαρακτηριστικά που με βάση τα βάρη του Lasso δεν είναι σημαντικά. Στο μοντέλο χρησιμοποιούμε το καλύτερο alpha που βρήκαμε πριν, δηλαδή 1e-4."
   ]
  },
  {
   "cell_type": "code",
   "execution_count": 228,
   "metadata": {},
   "outputs": [
    {
     "name": "stdout",
     "output_type": "stream",
     "text": [
      "[ True  True  True  True False  True False  True  True  True  True  True\n",
      "  True False]\n",
      "[1 1 1 1 4 1 2 1 1 1 1 1 1 3]\n"
     ]
    }
   ],
   "source": [
    "# feature selection\n",
    "selector = RFECV(Lasso(alpha=1e-4, random_state=0), step=1, cv=5, scoring='neg_mean_squared_error', n_jobs=5)\n",
    "selector.fit(X_train, y_train)\n",
    "print(selector.support_)\n",
    "print(selector.ranking_)"
   ]
  },
  {
   "cell_type": "markdown",
   "metadata": {},
   "source": [
    "Παρατηρούμε πως οι μεταβλητές wind, dew point και day δεν χρειάζονται στο μοντέλο οπότε τις αφαιρούμε."
   ]
  },
  {
   "cell_type": "code",
   "execution_count": 229,
   "metadata": {},
   "outputs": [
    {
     "data": {
      "text/plain": [
       "(6132, 14)"
      ]
     },
     "execution_count": 229,
     "metadata": {},
     "output_type": "execute_result"
    }
   ],
   "source": [
    "X_train.shape"
   ]
  },
  {
   "cell_type": "code",
   "execution_count": 230,
   "metadata": {},
   "outputs": [],
   "source": [
    "X_train = selector.transform(X_train)\n",
    "X_test = selector.transform(X_test)"
   ]
  },
  {
   "cell_type": "code",
   "execution_count": 231,
   "metadata": {},
   "outputs": [
    {
     "data": {
      "text/plain": [
       "(6132, 11)"
      ]
     },
     "execution_count": 231,
     "metadata": {},
     "output_type": "execute_result"
    }
   ],
   "source": [
    "X_train.shape"
   ]
  },
  {
   "cell_type": "markdown",
   "metadata": {},
   "source": [
    "Μια τελευταία δοκιμή που θα κάνουμε είναι εξαγωγή χαρακτηριστικών με PCA, δοκιμάζοντας να μειώσουμε τη διάσταση."
   ]
  },
  {
   "cell_type": "code",
   "execution_count": 232,
   "metadata": {},
   "outputs": [
    {
     "name": "stdout",
     "output_type": "stream",
     "text": [
      "-0.529777276172251\n",
      "{'lasso__alpha': 1e-05, 'pca__n_components': 10}\n"
     ]
    }
   ],
   "source": [
    "lasso = Pipeline([('pca', PCA(n_components=4, random_state=0)), ('lasso', Lasso(alpha=1e-4, random_state=0))])\n",
    "parameters = {'pca__n_components': [1, 2, 3, 4, 5, 6, 7, 8, 9, 10], 'lasso__alpha': [1e-6, 1e-5, 1e-4, 0.001, 0.01, 0.1, 1]}\n",
    "lasso_cv = GridSearchCV(lasso, parameters, scoring='neg_mean_squared_error', cv=5, n_jobs=5)\n",
    "lasso_cv.fit(X_train, y_train)\n",
    "\n",
    "print(lasso_cv.best_score_)\n",
    "print(lasso_cv.best_params_)"
   ]
  },
  {
   "cell_type": "markdown",
   "metadata": {},
   "source": [
    "Παρατηρούμε πως με μείωση της διάστασης με PCA δεν βελτιώνεται το αποτέλεσμα οπότε δεν θα προβούμε σε κάτι τέτοιο."
   ]
  },
  {
   "cell_type": "markdown",
   "metadata": {},
   "source": [
    "## Εκπαίδευση μοντέλων\n",
    "\n",
    "Αφού τα δεδομένα είναι έτοιμα θα εκπαιδεύσουμε και βελτιστοποιήσουμε διαφορετικά μοντέλα. Για την ακρίβεια, θα χρησιμοποιήσουμε τα μοντέλα Lasso, Ridge, Elastic Net, SVM, Neural Network, Extra Trees και Hist Gradient Boosting. Σε κάθε μοντέλο κάνουμε δύο gridsearch, ένα με μεγαλύτερο εύρος τιμών και ένα με στενότερο/προσαρμοσμένο με βάση τα αποτελέσματα του προηγουμένου."
   ]
  },
  {
   "cell_type": "markdown",
   "metadata": {},
   "source": [
    "### Dataframes for results\n",
    "\n",
    "Πριν εκπαιδεύσουμε τους αλγορίθμους φτιάχνουμε τις απαραίτητες δομές δεδομένων για να αποθηκεύουμε αποτελέσματα που μας ενδιαφέρουν για κάθε αλγόριθμο. Συγκεκριμένα, θα αποθηκεύουμε τη μετρική RMSLE για το test set, χρόνους εκτέλεσης τελικού fit και predict και τη μεταβολή RMSLE πριν και μετά τη βελτιστοποίηση."
   ]
  },
  {
   "cell_type": "code",
   "execution_count": 233,
   "metadata": {},
   "outputs": [],
   "source": [
    "# model names to use as index for the dataframes\n",
    "model_names = ['Lasso', 'Ridge', 'Elastic Net', 'SVM', 'Neural Network', 'Extra Trees', 'Hist Gradient Boosting']\n",
    "# store fit and predict time\n",
    "times = pd.DataFrame(.0, index=model_names, columns=['Fit Time', 'Predict Time'])\n",
    "# store RMSLE metric\n",
    "metric = pd.DataFrame(.0, index=model_names, columns=['RMSLE'])\n",
    "# the percentage change of RMSLE after tuning the model\n",
    "rmsle_change = pd.DataFrame(.0, index=model_names, columns=['% RMSLE change'])   \n",
    "\n",
    "def get_results(model, model_name, rmsle_default):\n",
    "    \"\"\" Fit final model, predict test, print and store results\n",
    "    \"\"\"\n",
    "    # fit model\n",
    "    start = time.time()\n",
    "    model.fit(X_train, y_train)  # fit\n",
    "    end = time.time()\n",
    "    fit_time = round(end - start, 4)  # fit time\n",
    "\n",
    "    # predict\n",
    "    start = time.time()\n",
    "    y_pred = model.predict(X_test)  # predict\n",
    "    end = time.time()\n",
    "    predict_time = round(end - start, 4) # predict time\n",
    "\n",
    "    # evaluation\n",
    "    rmsle = round(rmsle_score(y_test, y_pred), 3)\n",
    "\n",
    "    # percentage change\n",
    "    change = round((rmsle - rmsle_default)/rmsle_default * 100, 2)\n",
    "\n",
    "    print(\"Results for \" + model_name + \":\\n\")\n",
    "    print(\"RMSLE:\", rmsle)\n",
    "    print(\"Time to fit:\", fit_time)\n",
    "    print(\"Time to predict:\", predict_time)\n",
    "    print(\"Percentage of RMSLE change: \" + str(change) + \"%\")\n",
    "    \n",
    "    times.loc[model_name]['Fit Time'] = fit_time\n",
    "    times.loc[model_name]['Predict Time'] = predict_time\n",
    "    metric.loc[model_name]['RMSLE'] = rmsle\n",
    "    rmsle_change.loc[model_name]['% RMSLE change'] = change"
   ]
  },
  {
   "cell_type": "markdown",
   "metadata": {},
   "source": [
    "### Lasso\n",
    "\n",
    "Θα εκπαιδεύσουμε ένα μοντέλο Lasso. Οι παράμετροι που θα βελτιστοποιήσουμε είναι το alpha (L1 κανονικοποίηση) και το selection (αν τα coefficients ενημερώνονται τυχαία ή σειριακά σε κάθε επανάληψη)."
   ]
  },
  {
   "cell_type": "code",
   "execution_count": 234,
   "metadata": {},
   "outputs": [
    {
     "name": "stdout",
     "output_type": "stream",
     "text": [
      "RMSLE with default parameters: 1.5440566060213785\n"
     ]
    }
   ],
   "source": [
    "# train with default parameters\n",
    "model = Lasso(random_state=0)\n",
    "model.fit(X_train, y_train)\n",
    "rmsle_default = rmsle_score(y_test, model.predict(X_test))\n",
    "print('RMSLE with default parameters:', rmsle_default)"
   ]
  },
  {
   "cell_type": "code",
   "execution_count": 235,
   "metadata": {},
   "outputs": [
    {
     "name": "stdout",
     "output_type": "stream",
     "text": [
      "-0.5259641835812179\n",
      "{'alpha': 0.0001, 'selection': 'random'}\n"
     ]
    }
   ],
   "source": [
    "# first gridsearch\n",
    "model = Lasso(alpha=1.0, max_iter = 2000, selection='cyclic', random_state=0)\n",
    "parameters = {'alpha': [1e-6, 1e-5, 1e-4, 0.001, 0.005, 0.01, 0.1, 1], 'selection': ['cyclic', 'random']}\n",
    "model_cv = GridSearchCV(model, parameters, scoring='neg_mean_squared_error', cv=5, n_jobs=5)\n",
    "model_cv.fit(X_train, y_train)\n",
    "\n",
    "print(model_cv.best_score_)\n",
    "print(model_cv.best_params_)"
   ]
  },
  {
   "cell_type": "markdown",
   "metadata": {},
   "source": [
    "Βλέπουμε πως δεν χρειάζεται άλλο gridsearch και η κανονικοποίηση L1 είναι 0.0001 και τα coefficients είναι καλύτερο να ενημερώνονται τυχαία σε κάθε επανάληψη."
   ]
  },
  {
   "cell_type": "code",
   "execution_count": 236,
   "metadata": {},
   "outputs": [
    {
     "name": "stdout",
     "output_type": "stream",
     "text": [
      "Results for Lasso:\n",
      "\n",
      "RMSLE: 0.702\n",
      "Time to fit: 0.0538\n",
      "Time to predict: 0.001\n",
      "Percentage of RMSLE change: -54.54%\n"
     ]
    }
   ],
   "source": [
    "# final model\n",
    "model = Lasso(alpha=0.0001, max_iter=2000, selection='random', random_state=0)\n",
    "get_results(model, 'Lasso', rmsle_default)"
   ]
  },
  {
   "cell_type": "markdown",
   "metadata": {},
   "source": [
    "## Ridge\n",
    "\n",
    "Θα εκπαιδεύσουμε ένα μοντέλο Ridge. Οι παράμετροι που θα βελτιστοποιήσουμε είναι το alpha (L2 κανονικοποίηση) και τον solver (μέθοδος υπολογισμού των coefficients)."
   ]
  },
  {
   "cell_type": "code",
   "execution_count": 237,
   "metadata": {},
   "outputs": [
    {
     "name": "stdout",
     "output_type": "stream",
     "text": [
      "RMSLE with default parameters: 0.7034566252163705\n"
     ]
    }
   ],
   "source": [
    "# train with default parameters\n",
    "model = Ridge(random_state=0)\n",
    "model.fit(X_train, y_train)\n",
    "rmsle_default = rmsle_score(y_test, model.predict(X_test))\n",
    "print('RMSLE with default parameters:', rmsle_default)"
   ]
  },
  {
   "cell_type": "code",
   "execution_count": 238,
   "metadata": {},
   "outputs": [
    {
     "name": "stdout",
     "output_type": "stream",
     "text": [
      "-0.525745343185104\n",
      "{'alpha': 0.1, 'solver': 'sag'}\n"
     ]
    }
   ],
   "source": [
    "# first gridsearch\n",
    "model = Ridge(alpha=1.0, solver='auto', random_state=0)\n",
    "parameters = {'alpha': [1e-4, 0.001, 0.01, 0.1, 1, 3, 5, 7, 10], \n",
    "              'solver': ['svd', 'cholesky', 'lsqr', 'sparse_cg', 'sag', 'saga']}\n",
    "model_cv = GridSearchCV(model, parameters, scoring='neg_mean_squared_error', cv=5, n_jobs=5)\n",
    "model_cv.fit(X_train, y_train)\n",
    "\n",
    "print(model_cv.best_score_)\n",
    "print(model_cv.best_params_)"
   ]
  },
  {
   "cell_type": "markdown",
   "metadata": {},
   "source": [
    "Βλέπουμε πως δεν χρειάζεται άλλο gridsearch και η κανονικοποίηση L2 είναι 0.1 και o solver ο sag (Stochastic Average Gradient descent)."
   ]
  },
  {
   "cell_type": "code",
   "execution_count": 239,
   "metadata": {},
   "outputs": [
    {
     "name": "stdout",
     "output_type": "stream",
     "text": [
      "Results for Ridge:\n",
      "\n",
      "RMSLE: 0.702\n",
      "Time to fit: 0.0169\n",
      "Time to predict: 0.001\n",
      "Percentage of RMSLE change: -0.21%\n"
     ]
    }
   ],
   "source": [
    "# final model\n",
    "model = Ridge(alpha=0.1, solver='sag', random_state=0)\n",
    "get_results(model, 'Ridge', rmsle_default)"
   ]
  },
  {
   "cell_type": "markdown",
   "metadata": {},
   "source": [
    "### Elastic Net\n",
    "\n",
    "Θα εκπαιδεύσουμε ένα μοντέλο Elastic Net. Οι παράμετροι που θα βελτιστοποιήσουμε είναι το alpha (συνδυασμός L1 και L2 κανονικοποίησης), το l1_ratio (ποσοστό L1 κανονικοποίησης όπου αν είναι 0 έχουμε μόνο L2, ενώ αν είναι 1 έχουμε μόνο L1) και το selection όπως και στη Lasso."
   ]
  },
  {
   "cell_type": "code",
   "execution_count": 240,
   "metadata": {},
   "outputs": [
    {
     "name": "stdout",
     "output_type": "stream",
     "text": [
      "RMSLE with default parameters: 1.5440566060213785\n"
     ]
    }
   ],
   "source": [
    "# train with default parameters\n",
    "model = ElasticNet(random_state=0)\n",
    "model.fit(X_train, y_train)\n",
    "rmsle_default = rmsle_score(y_test, model.predict(X_test))\n",
    "print('RMSLE with default parameters:', rmsle_default)"
   ]
  },
  {
   "cell_type": "code",
   "execution_count": 241,
   "metadata": {},
   "outputs": [
    {
     "name": "stdout",
     "output_type": "stream",
     "text": [
      "-0.5258297866706567\n",
      "{'alpha': 0.0001, 'l1_ratio': 0.4, 'selection': 'cyclic'}\n"
     ]
    }
   ],
   "source": [
    "# first gridsearch\n",
    "model = ElasticNet(alpha=1.0, l1_ratio=0.5, max_iter=2000, selection='cyclic', random_state=0)\n",
    "parameters = {'alpha': [1e-5, 1e-4, 0.001, 0.01, 0.1, 1, 2, 3], 'l1_ratio': [0, 0.2, 0.4, 0.6, 0.8, 1],\n",
    "              'selection': ['cyclic', 'random']}\n",
    "model_cv = GridSearchCV(model, parameters, scoring='neg_mean_squared_error', cv=5, n_jobs=5)\n",
    "model_cv.fit(X_train, y_train)\n",
    "\n",
    "print(model_cv.best_score_)\n",
    "print(model_cv.best_params_)"
   ]
  },
  {
   "cell_type": "code",
   "execution_count": 242,
   "metadata": {},
   "outputs": [
    {
     "name": "stdout",
     "output_type": "stream",
     "text": [
      "-0.5258285521758433\n",
      "{'alpha': 0.0001, 'l1_ratio': 0.5}\n"
     ]
    }
   ],
   "source": [
    "# second gridsearch\n",
    "model = ElasticNet(alpha=1.0, l1_ratio=0.5, max_iter=2000, selection='cyclic', random_state=0)\n",
    "parameters = {'alpha': [1e-5, 1e-4, 0.001], 'l1_ratio': [0.3, 0.4, 0.5]}\n",
    "model_cv = GridSearchCV(model, parameters, scoring='neg_mean_squared_error', cv=5, n_jobs=5)\n",
    "model_cv.fit(X_train, y_train)\n",
    "\n",
    "print(model_cv.best_score_)\n",
    "print(model_cv.best_params_)"
   ]
  },
  {
   "cell_type": "markdown",
   "metadata": {},
   "source": [
    "Παρατηρούμε πως το μείγμα κανονικοποίησης είναι μισό μισό L1 και L2, ο βαθμός κανονικοποίησης 0.0001 και για την ενημέρωση των βαρών διατρέχονται σειριακά τα features σε κάθε επανάληψη."
   ]
  },
  {
   "cell_type": "code",
   "execution_count": 243,
   "metadata": {},
   "outputs": [
    {
     "name": "stdout",
     "output_type": "stream",
     "text": [
      "Results for Elastic Net:\n",
      "\n",
      "RMSLE: 0.702\n",
      "Time to fit: 0.0359\n",
      "Time to predict: 0.0\n",
      "Percentage of RMSLE change: -54.54%\n"
     ]
    }
   ],
   "source": [
    "# final model\n",
    "model = ElasticNet(alpha=0.0001, l1_ratio=0.5, max_iter=2000, selection='cyclic', random_state=0)\n",
    "get_results(model, 'Elastic Net', rmsle_default)"
   ]
  },
  {
   "cell_type": "markdown",
   "metadata": {},
   "source": [
    "### Support Vector Machine\n",
    "\n",
    "Θα εκπαιδεύσουμε ένα SVM (Support Vector Machine). Οι παράμετροι που θα βελτιστοποιήσουμε είναι φυσικά ο kernel και το C (κανονικοποίηση ο βαθμός της οποίας είναι αντίστροφος του C)."
   ]
  },
  {
   "cell_type": "code",
   "execution_count": 244,
   "metadata": {},
   "outputs": [
    {
     "name": "stdout",
     "output_type": "stream",
     "text": [
      "RMSLE with default parameters: 0.6161216990600423\n"
     ]
    }
   ],
   "source": [
    "# train with default parameters\n",
    "model = SVR()\n",
    "model.fit(X_train, y_train)\n",
    "rmsle_default = rmsle_score(y_test, model.predict(X_test))\n",
    "print('RMSLE with default parameters:', rmsle_default)"
   ]
  },
  {
   "cell_type": "code",
   "execution_count": 245,
   "metadata": {},
   "outputs": [
    {
     "name": "stdout",
     "output_type": "stream",
     "text": [
      "-0.2976519466277425\n",
      "{'C': 1000, 'kernel': 'rbf'}\n"
     ]
    }
   ],
   "source": [
    "# first gridsearch\n",
    "model = SVR(kernel='rbf', degree=3, gamma='scale', coef0=0.0, C=1.0)\n",
    "parameters = {'kernel': ['linear', 'poly', 'rbf', 'sigmoid'], 'C': [1, 10, 100, 1000]}\n",
    "model_cv = GridSearchCV(model, parameters, scoring='neg_mean_squared_error', cv=5, n_jobs=5)\n",
    "model_cv.fit(X_train, y_train)\n",
    "\n",
    "print(model_cv.best_score_)\n",
    "print(model_cv.best_params_)"
   ]
  },
  {
   "cell_type": "markdown",
   "metadata": {},
   "source": [
    "Βλέπουμε πως ο καλύτερος kernel είναι ο rbf και το C είναι 1000. Θα μπορούσαμε να εξετάσουμε και μικρότερο regularization, αλλά το cross-validation καθυστερεί πολύ οπότε θα κρατήσουμε αυτό."
   ]
  },
  {
   "cell_type": "code",
   "execution_count": 246,
   "metadata": {},
   "outputs": [
    {
     "name": "stdout",
     "output_type": "stream",
     "text": [
      "Results for SVM:\n",
      "\n",
      "RMSLE: 0.557\n",
      "Time to fit: 37.0254\n",
      "Time to predict: 0.2619\n",
      "Percentage of RMSLE change: -9.6%\n"
     ]
    }
   ],
   "source": [
    "# final model\n",
    "model = SVR(kernel='rbf', C=1000)\n",
    "get_results(model, 'SVM', rmsle_default)"
   ]
  },
  {
   "cell_type": "markdown",
   "metadata": {},
   "source": [
    "### Neural Network\n",
    "\n",
    "Θα εκπαιδεύσουμε ένα απλό νευρωνικό δίκτυο (multi-layer perceptron). Η παράμετρος που θα βελτιστοποιήσουμε είναι μόνο η αρχιτεκτονική του δικτύου, δηλαδή ο αριθμός των νευρώνων και αν θα χρησιμοποιήσουμε 1 ή 2 hidden layers, αφού συνήθως δεν χρειάζονται περισσότερα. Οι υπόλοιπες σημαντικές παράμετροι θα μείνουν οι default, αφού εμπειρικά είναι οι καλύτερες, δηλαδή optimizer Adam με 0.001 learning rate και activation ReLu. Επίσης, θα χρησιμοποιήσουμε early stopping για αποφυγή overfitting και πιο γρήγορο cross-validation."
   ]
  },
  {
   "cell_type": "code",
   "execution_count": 247,
   "metadata": {},
   "outputs": [
    {
     "name": "stdout",
     "output_type": "stream",
     "text": [
      "RMSLE with default parameters: 0.6077506052579834\n"
     ]
    },
    {
     "name": "stderr",
     "output_type": "stream",
     "text": [
      "C:\\Users\\Vagelis\\Anaconda3\\lib\\site-packages\\sklearn\\neural_network\\_multilayer_perceptron.py:585: ConvergenceWarning: Stochastic Optimizer: Maximum iterations (200) reached and the optimization hasn't converged yet.\n",
      "  % self.max_iter, ConvergenceWarning)\n"
     ]
    }
   ],
   "source": [
    "# train with default parameters\n",
    "model = MLPRegressor(random_state=0)\n",
    "model.fit(X_train, y_train)\n",
    "rmsle_default = rmsle_score(y_test, model.predict(X_test))\n",
    "print('RMSLE with default parameters:', rmsle_default)"
   ]
  },
  {
   "cell_type": "code",
   "execution_count": 248,
   "metadata": {},
   "outputs": [
    {
     "name": "stdout",
     "output_type": "stream",
     "text": [
      "-0.24061856332892068\n",
      "{'hidden_layer_sizes': (128, 64)}\n"
     ]
    }
   ],
   "source": [
    "# first gridsearch\n",
    "model = MLPRegressor(hidden_layer_sizes=100, batch_size=32, early_stopping=True, validation_fraction=0.1, n_iter_no_change=5, \n",
    "                     random_state=0)\n",
    "parameters = {'hidden_layer_sizes': [(32,), (64,), (128,), (256,), (64, 32), (128, 64), (256, 128)]}\n",
    "model_cv = GridSearchCV(model, parameters, scoring='neg_mean_squared_error', cv=5, n_jobs=5)\n",
    "model_cv.fit(X_train, y_train)\n",
    "\n",
    "print(model_cv.best_score_)\n",
    "print(model_cv.best_params_)"
   ]
  },
  {
   "cell_type": "markdown",
   "metadata": {},
   "source": [
    "Παρατηρούμε πως η καλύτερη αρχιτεκτονική είναι δύο hidden layers με 128 και 64 νευρώνες αντίστοιχα."
   ]
  },
  {
   "cell_type": "code",
   "execution_count": 249,
   "metadata": {},
   "outputs": [
    {
     "name": "stdout",
     "output_type": "stream",
     "text": [
      "Results for Neural Network:\n",
      "\n",
      "RMSLE: 0.448\n",
      "Time to fit: 13.447\n",
      "Time to predict: 0.0239\n",
      "Percentage of RMSLE change: -26.29%\n"
     ]
    }
   ],
   "source": [
    "# final model\n",
    "model = MLPRegressor(hidden_layer_sizes=(128, 64), batch_size=32, early_stopping=True, validation_fraction=0.1, \n",
    "                     n_iter_no_change=5, random_state=0)\n",
    "get_results(model, 'Neural Network', rmsle_default)"
   ]
  },
  {
   "cell_type": "markdown",
   "metadata": {},
   "source": [
    "### Extra Trees\n",
    "\n",
    "Θα εκπαιδεύσουμε ένα μοντέλο Extra Trees (Extremely Randomized Trees). Οι παράμετροι που θα βελτιστοποιήσουμε είναι οι n_estimators (πόσα δέντρα θα φτιαχτούν), max_depth (το μέγιστο βάθος κάθε δέντρου για αποφυγή over-fitting) και max_features (πόσα χαρακτηριστικά θα ελέγχονται για την επιλογή του καλύτερου split)."
   ]
  },
  {
   "cell_type": "code",
   "execution_count": 250,
   "metadata": {},
   "outputs": [
    {
     "name": "stdout",
     "output_type": "stream",
     "text": [
      "RMSLE with default parameters: 0.3928431740769239\n"
     ]
    }
   ],
   "source": [
    "# train with default parameters\n",
    "model = ExtraTreesRegressor(random_state=0)\n",
    "model.fit(X_train, y_train)\n",
    "rmsle_default = rmsle_score(y_test, model.predict(X_test))\n",
    "print('RMSLE with default parameters:', rmsle_default)"
   ]
  },
  {
   "cell_type": "code",
   "execution_count": 251,
   "metadata": {},
   "outputs": [
    {
     "name": "stdout",
     "output_type": "stream",
     "text": [
      "-0.1664870673252306\n",
      "{'max_depth': 50, 'max_features': 7, 'n_estimators': 200}\n"
     ]
    }
   ],
   "source": [
    "# first gridsearch\n",
    "model = ExtraTreesRegressor(n_estimators=100, max_depth=None, max_features='auto', n_jobs=5, random_state=0)\n",
    "parameters = {'n_estimators': [50, 100, 150, 200], 'max_depth': [10, 30, 50, 70], 'max_features': [5, 7, 9, 11]}\n",
    "model_cv = GridSearchCV(model, parameters, scoring='neg_mean_squared_error', cv=5, n_jobs=5)\n",
    "model_cv.fit(X_train, y_train)\n",
    "\n",
    "print(model_cv.best_score_)\n",
    "print(model_cv.best_params_)"
   ]
  },
  {
   "cell_type": "code",
   "execution_count": 252,
   "metadata": {},
   "outputs": [
    {
     "name": "stdout",
     "output_type": "stream",
     "text": [
      "-0.16637881059101275\n",
      "{'max_depth': 40, 'max_features': 7, 'n_estimators': 300}\n"
     ]
    }
   ],
   "source": [
    "# second gridsearch\n",
    "model = ExtraTreesRegressor(n_estimators=100, max_depth=None, max_features='auto', n_jobs=5, random_state=0)\n",
    "parameters = {'n_estimators': [200, 250, 300], 'max_depth': [40, 50, 60], 'max_features': [6, 7, 8]}\n",
    "model_cv = GridSearchCV(model, parameters, scoring='neg_mean_squared_error', cv=5, n_jobs=5)\n",
    "model_cv.fit(X_train, y_train)\n",
    "\n",
    "print(model_cv.best_score_)\n",
    "print(model_cv.best_params_)"
   ]
  },
  {
   "cell_type": "markdown",
   "metadata": {},
   "source": [
    "Παρατηρούμε πως πρέπει να φτιαχτούν 300 δέντρα των οποίων το μέγιστο βάθος είναι 40 και πρέπει να ελέγχονται 7 χαρακτηριστικά για την επιλογή split."
   ]
  },
  {
   "cell_type": "code",
   "execution_count": 253,
   "metadata": {},
   "outputs": [
    {
     "name": "stdout",
     "output_type": "stream",
     "text": [
      "Results for Extra Trees:\n",
      "\n",
      "RMSLE: 0.389\n",
      "Time to fit: 0.8622\n",
      "Time to predict: 0.108\n",
      "Percentage of RMSLE change: -0.98%\n"
     ]
    }
   ],
   "source": [
    "# final model\n",
    "model = ExtraTreesRegressor(n_estimators=300, max_depth=40, max_features=7, n_jobs=5, random_state=0)\n",
    "get_results(model, 'Extra Trees', rmsle_default)"
   ]
  },
  {
   "cell_type": "markdown",
   "metadata": {},
   "source": [
    "### Hist Gradient Boosting\n",
    "\n",
    "Θα εκπαιδεύσουμε ένα μοντέλο Hist Gradient Boosting. Οι παράμετροι που θα βελτιστοποιήσουμε είναι το learning_rate, το max_leaf_nodes (για αποφυγή over-fitting) και το l2_regularization. Επίσης, θα χρησιμοποιήσουμε early stopping για αποφυγή over-fitting και πιο γρήγορο cross-validation."
   ]
  },
  {
   "cell_type": "code",
   "execution_count": 254,
   "metadata": {},
   "outputs": [
    {
     "name": "stdout",
     "output_type": "stream",
     "text": [
      "RMSLE with default parameters: 0.4119074219467291\n"
     ]
    }
   ],
   "source": [
    "# train with default parameters\n",
    "model = HistGradientBoostingRegressor(random_state = 0)\n",
    "model.fit(X_train, y_train)\n",
    "rmsle_default = rmsle_score(y_test, model.predict(X_test))\n",
    "print('RMSLE with default parameters:', rmsle_default)"
   ]
  },
  {
   "cell_type": "code",
   "execution_count": 255,
   "metadata": {},
   "outputs": [
    {
     "name": "stdout",
     "output_type": "stream",
     "text": [
      "-0.17915345696257004\n",
      "{'l2_regularization': 0.1, 'learning_rate': 0.1, 'max_leaf_nodes': 40}\n"
     ]
    }
   ],
   "source": [
    "# first gridsearch\n",
    "model = HistGradientBoostingRegressor(learning_rate=0.1, max_leaf_nodes=31, l2_regularization=0.0, early_stopping=True,\n",
    "                                      validation_fraction=0.1, n_iter_no_change=5, random_state=0)\n",
    "parameters = {'learning_rate': [0.001, 0.01, 0.1, 1], 'max_leaf_nodes': [10, 20, 30, 40, 50],\n",
    "              'l2_regularization': [1e-4, 0.001, 0.01, 0.1, 1]}\n",
    "model_cv = GridSearchCV(model, parameters, scoring='neg_mean_squared_error', cv=5, n_jobs=5)\n",
    "model_cv.fit(X_train, y_train)\n",
    "\n",
    "print(model_cv.best_score_)\n",
    "print(model_cv.best_params_)"
   ]
  },
  {
   "cell_type": "code",
   "execution_count": 256,
   "metadata": {},
   "outputs": [
    {
     "name": "stdout",
     "output_type": "stream",
     "text": [
      "-0.16724813561636767\n",
      "{'max_iter': 300, 'max_leaf_nodes': 35}\n"
     ]
    }
   ],
   "source": [
    "# second gridsearch\n",
    "model = HistGradientBoostingRegressor(learning_rate=0.1, max_leaf_nodes=31, l2_regularization=0.1, early_stopping=False, \n",
    "                                      random_state=0)\n",
    "parameters = {'max_leaf_nodes': [35, 40, 45], 'max_iter': [100, 200, 300, 400]}\n",
    "model_cv = GridSearchCV(model, parameters, scoring='neg_mean_squared_error', cv=5, n_jobs=5)\n",
    "model_cv.fit(X_train, y_train)\n",
    "\n",
    "print(model_cv.best_score_)\n",
    "print(model_cv.best_params_)"
   ]
  },
  {
   "cell_type": "markdown",
   "metadata": {},
   "source": [
    "Παρατηρούμε πως η L2 κανονικοποίηση είναι 0.1, το learning_rate 0.1 και ο μέγιστος αριθμός φύλλων 35. Επίσης, κάναμε cross-validate και τον αριθμό επαναλήψεων χωρίς early stopping και είναι μέγιστος 300."
   ]
  },
  {
   "cell_type": "code",
   "execution_count": 257,
   "metadata": {},
   "outputs": [
    {
     "name": "stdout",
     "output_type": "stream",
     "text": [
      "Results for Hist Gradient Boosting:\n",
      "\n",
      "RMSLE: 0.406\n",
      "Time to fit: 2.975\n",
      "Time to predict: 0.0219\n",
      "Percentage of RMSLE change: -1.43%\n"
     ]
    }
   ],
   "source": [
    "# final model\n",
    "model = HistGradientBoostingRegressor(learning_rate=0.1, max_leaf_nodes=35, l2_regularization=0.1, max_iter=300)\n",
    "get_results(model, 'Hist Gradient Boosting', rmsle_default)"
   ]
  },
  {
   "cell_type": "markdown",
   "metadata": {},
   "source": [
    "## Αποτελέσματα και Σύγκριση"
   ]
  },
  {
   "cell_type": "markdown",
   "metadata": {},
   "source": [
    "### Χρόνοι εκτέλεσης\n",
    "\n",
    "Παρακάτω φαίνεται ο πίνακας με τους χρόνους εκπαίδευσης και πρόβλεψης των τελικών μοντέλων σε δευτερόλεπτα. Όπως ήταν αναμενόμενο το SVM είναι το πιο αργό και στις δύο περιπτώσεις, ενώ τα γραμμικά μοντέλα τα πιο γρήγορα με σχεδόν μηδενικό χρόνο πρόβλεψης. Το Νευρωνικό Δίκτυο αν και χρειάζεται πολύ χρόνο για εκπαίδευση, προβλέπει σχετικά γρήγορα. Επίσης, το μοντέλο Hist Gradient Boosting εκπαιδεύεται πιο αργά, αλλά προβλέπει πιο γρήγορα από το Extra Trees."
   ]
  },
  {
   "cell_type": "code",
   "execution_count": 262,
   "metadata": {},
   "outputs": [
    {
     "data": {
      "text/html": [
       "<div>\n",
       "<style scoped>\n",
       "    .dataframe tbody tr th:only-of-type {\n",
       "        vertical-align: middle;\n",
       "    }\n",
       "\n",
       "    .dataframe tbody tr th {\n",
       "        vertical-align: top;\n",
       "    }\n",
       "\n",
       "    .dataframe thead th {\n",
       "        text-align: right;\n",
       "    }\n",
       "</style>\n",
       "<table border=\"1\" class=\"dataframe\">\n",
       "  <thead>\n",
       "    <tr style=\"text-align: right;\">\n",
       "      <th></th>\n",
       "      <th>Fit Time</th>\n",
       "      <th>Predict Time</th>\n",
       "    </tr>\n",
       "  </thead>\n",
       "  <tbody>\n",
       "    <tr>\n",
       "      <th>Lasso</th>\n",
       "      <td>0.0538</td>\n",
       "      <td>0.0010</td>\n",
       "    </tr>\n",
       "    <tr>\n",
       "      <th>Ridge</th>\n",
       "      <td>0.0169</td>\n",
       "      <td>0.0010</td>\n",
       "    </tr>\n",
       "    <tr>\n",
       "      <th>Elastic Net</th>\n",
       "      <td>0.0359</td>\n",
       "      <td>0.0000</td>\n",
       "    </tr>\n",
       "    <tr>\n",
       "      <th>SVM</th>\n",
       "      <td>37.0254</td>\n",
       "      <td>0.2619</td>\n",
       "    </tr>\n",
       "    <tr>\n",
       "      <th>Neural Network</th>\n",
       "      <td>13.4470</td>\n",
       "      <td>0.0239</td>\n",
       "    </tr>\n",
       "    <tr>\n",
       "      <th>Extra Trees</th>\n",
       "      <td>0.8622</td>\n",
       "      <td>0.1080</td>\n",
       "    </tr>\n",
       "    <tr>\n",
       "      <th>Hist Gradient Boosting</th>\n",
       "      <td>2.9750</td>\n",
       "      <td>0.0219</td>\n",
       "    </tr>\n",
       "  </tbody>\n",
       "</table>\n",
       "</div>"
      ],
      "text/plain": [
       "                        Fit Time  Predict Time\n",
       "Lasso                     0.0538        0.0010\n",
       "Ridge                     0.0169        0.0010\n",
       "Elastic Net               0.0359        0.0000\n",
       "SVM                      37.0254        0.2619\n",
       "Neural Network           13.4470        0.0239\n",
       "Extra Trees               0.8622        0.1080\n",
       "Hist Gradient Boosting    2.9750        0.0219"
      ]
     },
     "execution_count": 262,
     "metadata": {},
     "output_type": "execute_result"
    }
   ],
   "source": [
    "times"
   ]
  },
  {
   "cell_type": "markdown",
   "metadata": {},
   "source": [
    "### Μεταβολή Επίδοσης\n",
    "\n",
    "Παρακάτω φαίνεται ο πίνακας με την ποσοστιαία μεταβολή του σφάλματος RMSLE πριν και μετά τη βελτιστοποίηση των μοντέλων. Βλέπουμε πως στην περίπτωση των μοντέλων Lasso και Elastic Net το σφάλμα μειώθηκε κατά περίπου 50%, ενώ το μοντέλο Ridge, καθώς και τα ensemble μοντέλα είχαν μικρή βελτίωση."
   ]
  },
  {
   "cell_type": "code",
   "execution_count": 264,
   "metadata": {},
   "outputs": [
    {
     "data": {
      "text/html": [
       "<div>\n",
       "<style scoped>\n",
       "    .dataframe tbody tr th:only-of-type {\n",
       "        vertical-align: middle;\n",
       "    }\n",
       "\n",
       "    .dataframe tbody tr th {\n",
       "        vertical-align: top;\n",
       "    }\n",
       "\n",
       "    .dataframe thead th {\n",
       "        text-align: right;\n",
       "    }\n",
       "</style>\n",
       "<table border=\"1\" class=\"dataframe\">\n",
       "  <thead>\n",
       "    <tr style=\"text-align: right;\">\n",
       "      <th></th>\n",
       "      <th>% RMSLE change</th>\n",
       "    </tr>\n",
       "  </thead>\n",
       "  <tbody>\n",
       "    <tr>\n",
       "      <th>Lasso</th>\n",
       "      <td>-54.54</td>\n",
       "    </tr>\n",
       "    <tr>\n",
       "      <th>Ridge</th>\n",
       "      <td>-0.21</td>\n",
       "    </tr>\n",
       "    <tr>\n",
       "      <th>Elastic Net</th>\n",
       "      <td>-54.54</td>\n",
       "    </tr>\n",
       "    <tr>\n",
       "      <th>SVM</th>\n",
       "      <td>-9.60</td>\n",
       "    </tr>\n",
       "    <tr>\n",
       "      <th>Neural Network</th>\n",
       "      <td>-26.29</td>\n",
       "    </tr>\n",
       "    <tr>\n",
       "      <th>Extra Trees</th>\n",
       "      <td>-0.98</td>\n",
       "    </tr>\n",
       "    <tr>\n",
       "      <th>Hist Gradient Boosting</th>\n",
       "      <td>-1.43</td>\n",
       "    </tr>\n",
       "  </tbody>\n",
       "</table>\n",
       "</div>"
      ],
      "text/plain": [
       "                        % RMSLE change\n",
       "Lasso                           -54.54\n",
       "Ridge                            -0.21\n",
       "Elastic Net                     -54.54\n",
       "SVM                              -9.60\n",
       "Neural Network                  -26.29\n",
       "Extra Trees                      -0.98\n",
       "Hist Gradient Boosting           -1.43"
      ]
     },
     "execution_count": 264,
     "metadata": {},
     "output_type": "execute_result"
    }
   ],
   "source": [
    "rmsle_change"
   ]
  },
  {
   "cell_type": "markdown",
   "metadata": {},
   "source": [
    "### Αξιολόγηση\n",
    "\n",
    "Στον παρακάτω πίνακα και barplot φαίνεται η αξιολόγηση των μοντέλων στο test set με το κριτήριο RMSLE. Βλέπουμε πως τα γραμμικά μοντέλα έχουν πολύ παρόμοια αποτελέσματα και μάλιστα όχι καλά, άρα οδηγούμαστε στο συμπέρασμα πως τα δεδομένα μας χρειάζονται πιο περίπλοκη μοντελοποίηση. Πράγματι, τα άλλα μοντέλα τα πήγαν καλύτερα, ειδικά τα ensemble μοντέλα όπως και ήταν αναμενόμενο, με το Extra Trees να έχει το καλύτερο score."
   ]
  },
  {
   "cell_type": "code",
   "execution_count": 265,
   "metadata": {},
   "outputs": [
    {
     "data": {
      "text/html": [
       "<div>\n",
       "<style scoped>\n",
       "    .dataframe tbody tr th:only-of-type {\n",
       "        vertical-align: middle;\n",
       "    }\n",
       "\n",
       "    .dataframe tbody tr th {\n",
       "        vertical-align: top;\n",
       "    }\n",
       "\n",
       "    .dataframe thead th {\n",
       "        text-align: right;\n",
       "    }\n",
       "</style>\n",
       "<table border=\"1\" class=\"dataframe\">\n",
       "  <thead>\n",
       "    <tr style=\"text-align: right;\">\n",
       "      <th></th>\n",
       "      <th>RMSLE</th>\n",
       "    </tr>\n",
       "  </thead>\n",
       "  <tbody>\n",
       "    <tr>\n",
       "      <th>Lasso</th>\n",
       "      <td>0.702</td>\n",
       "    </tr>\n",
       "    <tr>\n",
       "      <th>Ridge</th>\n",
       "      <td>0.702</td>\n",
       "    </tr>\n",
       "    <tr>\n",
       "      <th>Elastic Net</th>\n",
       "      <td>0.702</td>\n",
       "    </tr>\n",
       "    <tr>\n",
       "      <th>SVM</th>\n",
       "      <td>0.557</td>\n",
       "    </tr>\n",
       "    <tr>\n",
       "      <th>Neural Network</th>\n",
       "      <td>0.448</td>\n",
       "    </tr>\n",
       "    <tr>\n",
       "      <th>Extra Trees</th>\n",
       "      <td>0.389</td>\n",
       "    </tr>\n",
       "    <tr>\n",
       "      <th>Hist Gradient Boosting</th>\n",
       "      <td>0.406</td>\n",
       "    </tr>\n",
       "  </tbody>\n",
       "</table>\n",
       "</div>"
      ],
      "text/plain": [
       "                        RMSLE\n",
       "Lasso                   0.702\n",
       "Ridge                   0.702\n",
       "Elastic Net             0.702\n",
       "SVM                     0.557\n",
       "Neural Network          0.448\n",
       "Extra Trees             0.389\n",
       "Hist Gradient Boosting  0.406"
      ]
     },
     "execution_count": 265,
     "metadata": {},
     "output_type": "execute_result"
    }
   ],
   "source": [
    "metric"
   ]
  },
  {
   "cell_type": "code",
   "execution_count": 266,
   "metadata": {},
   "outputs": [
    {
     "data": {
      "image/png": "[encoded data removed]",
      "text/plain": [
       "<Figure size 792x432 with 1 Axes>"
      ]
     },
     "metadata": {
      "needs_background": "light"
     },
     "output_type": "display_data"
    }
   ],
   "source": [
    "ax = metric.plot(kind='barh', figsize=(11, 6))"
   ]
  }
 ],
 "metadata": {
  "kernelspec": {
   "display_name": "Python 3",
   "language": "python",
   "name": "python3"
  },
  "language_info": {
   "codemirror_mode": {
    "name": "ipython",
    "version": 3
   },
   "file_extension": ".py",
   "mimetype": "text/x-python",
   "name": "python",
   "nbconvert_exporter": "python",
   "pygments_lexer": "ipython3",
   "version": "3.7.4"
  }
 },
 "nbformat": 4,
 "nbformat_minor": 4
}
