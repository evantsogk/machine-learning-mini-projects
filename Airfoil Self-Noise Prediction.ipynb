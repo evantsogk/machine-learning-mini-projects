{
 "cells": [
  {
   "cell_type": "markdown",
   "metadata": {},
   "source": [
    "# Airfoil Self-Noise Prediction"
   ]
  },
  {
   "cell_type": "code",
   "execution_count": 276,
   "metadata": {},
   "outputs": [],
   "source": [
    "import pandas as pd\n",
    "import numpy as np\n",
    "import time\n",
    "from sklearn.model_selection import train_test_split, GridSearchCV\n",
    "from sklearn.pipeline import Pipeline\n",
    "from sklearn.preprocessing import StandardScaler, MinMaxScaler\n",
    "from sklearn.feature_selection import RFECV\n",
    "from sklearn.decomposition import PCA\n",
    "from sklearn.metrics import mean_squared_error, mean_absolute_error\n",
    "from sklearn.linear_model import LinearRegression, Lasso, Ridge, SGDRegressor\n",
    "from sklearn.tree import DecisionTreeRegressor\n",
    "from sklearn.ensemble import RandomForestRegressor, GradientBoostingRegressor"
   ]
  },
  {
   "cell_type": "markdown",
   "metadata": {},
   "source": [
    "## Dataset"
   ]
  },
  {
   "cell_type": "markdown",
   "metadata": {},
   "source": [
    "Το dataset που θα χρησιμοποιήσουμε υπάρχει στο UCI https://archive.ics.uci.edu/ml/datasets/Airfoil+Self-Noise. Η NASA κατέγραψε παρατηρήσεις πέντε διαφορετικών χαρακτηριστικών με σκοπό τη δημιουργία ενός μοντέλου που θα μπορεί να προβλέψει τον θόρυβο λεπίδων αεροτομών. Τα χαρακτηριστικά με τις μονάδες μέτρησής τους είναι τα εξής:\n",
    "- Frequency, σε Hertzs\n",
    "- Angle of attack, σε μοίρες\n",
    "- Chord length, σε μέτρα\n",
    "- Free-stream velocity, σε μέτρα ανά δευτερόλεπτο\n",
    "- Suction side displacement thickness, σε μέτρα\n",
    "\n",
    "και η μεταβλητή προς πρόβλεψη είναι η:\n",
    "- Scaled sound pressure level, σε ντεσιμπέλ\n",
    "\n",
    "Το dataset αποτελείται από 1503 δείγματα και όλα τα χαρακτηριστικά είναι αριθμητικά. Οι επικεφαλίδες των χαρακτηριστικών δεν παρέχονται, οπότε τις ορίζουμε εμείς κατά το διάβασμα του αρχείου, με την τελευταία στήλη να αποτελεί τη μεταβλητή στόχο."
   ]
  },
  {
   "cell_type": "code",
   "execution_count": 218,
   "metadata": {},
   "outputs": [],
   "source": [
    "# load data\n",
    "data = pd.read_csv('data/airfoil_self_noise.dat', sep='\\s+', header=None, \n",
    "                   names=['frequency', 'angle', 'length', 'velocity', 'thickness', 'sound'])"
   ]
  },
  {
   "cell_type": "code",
   "execution_count": 219,
   "metadata": {},
   "outputs": [
    {
     "data": {
      "text/html": [
       "<div>\n",
       "<style scoped>\n",
       "    .dataframe tbody tr th:only-of-type {\n",
       "        vertical-align: middle;\n",
       "    }\n",
       "\n",
       "    .dataframe tbody tr th {\n",
       "        vertical-align: top;\n",
       "    }\n",
       "\n",
       "    .dataframe thead th {\n",
       "        text-align: right;\n",
       "    }\n",
       "</style>\n",
       "<table border=\"1\" class=\"dataframe\">\n",
       "  <thead>\n",
       "    <tr style=\"text-align: right;\">\n",
       "      <th></th>\n",
       "      <th>frequency</th>\n",
       "      <th>angle</th>\n",
       "      <th>length</th>\n",
       "      <th>velocity</th>\n",
       "      <th>thickness</th>\n",
       "      <th>sound</th>\n",
       "    </tr>\n",
       "  </thead>\n",
       "  <tbody>\n",
       "    <tr>\n",
       "      <th>0</th>\n",
       "      <td>800</td>\n",
       "      <td>0.0</td>\n",
       "      <td>0.3048</td>\n",
       "      <td>71.3</td>\n",
       "      <td>0.002663</td>\n",
       "      <td>126.201</td>\n",
       "    </tr>\n",
       "    <tr>\n",
       "      <th>1</th>\n",
       "      <td>1000</td>\n",
       "      <td>0.0</td>\n",
       "      <td>0.3048</td>\n",
       "      <td>71.3</td>\n",
       "      <td>0.002663</td>\n",
       "      <td>125.201</td>\n",
       "    </tr>\n",
       "    <tr>\n",
       "      <th>2</th>\n",
       "      <td>1250</td>\n",
       "      <td>0.0</td>\n",
       "      <td>0.3048</td>\n",
       "      <td>71.3</td>\n",
       "      <td>0.002663</td>\n",
       "      <td>125.951</td>\n",
       "    </tr>\n",
       "    <tr>\n",
       "      <th>3</th>\n",
       "      <td>1600</td>\n",
       "      <td>0.0</td>\n",
       "      <td>0.3048</td>\n",
       "      <td>71.3</td>\n",
       "      <td>0.002663</td>\n",
       "      <td>127.591</td>\n",
       "    </tr>\n",
       "    <tr>\n",
       "      <th>4</th>\n",
       "      <td>2000</td>\n",
       "      <td>0.0</td>\n",
       "      <td>0.3048</td>\n",
       "      <td>71.3</td>\n",
       "      <td>0.002663</td>\n",
       "      <td>127.461</td>\n",
       "    </tr>\n",
       "  </tbody>\n",
       "</table>\n",
       "</div>"
      ],
      "text/plain": [
       "   frequency  angle  length  velocity  thickness    sound\n",
       "0        800    0.0  0.3048      71.3   0.002663  126.201\n",
       "1       1000    0.0  0.3048      71.3   0.002663  125.201\n",
       "2       1250    0.0  0.3048      71.3   0.002663  125.951\n",
       "3       1600    0.0  0.3048      71.3   0.002663  127.591\n",
       "4       2000    0.0  0.3048      71.3   0.002663  127.461"
      ]
     },
     "execution_count": 219,
     "metadata": {},
     "output_type": "execute_result"
    }
   ],
   "source": [
    "data.head()"
   ]
  },
  {
   "cell_type": "code",
   "execution_count": 220,
   "metadata": {},
   "outputs": [
    {
     "data": {
      "text/plain": [
       "(1503, 6)"
      ]
     },
     "execution_count": 220,
     "metadata": {},
     "output_type": "execute_result"
    }
   ],
   "source": [
    "data.shape"
   ]
  },
  {
   "cell_type": "code",
   "execution_count": 221,
   "metadata": {},
   "outputs": [
    {
     "data": {
      "text/plain": [
       "frequency      int64\n",
       "angle        float64\n",
       "length       float64\n",
       "velocity     float64\n",
       "thickness    float64\n",
       "sound        float64\n",
       "dtype: object"
      ]
     },
     "execution_count": 221,
     "metadata": {},
     "output_type": "execute_result"
    }
   ],
   "source": [
    "data.dtypes"
   ]
  },
  {
   "cell_type": "code",
   "execution_count": 222,
   "metadata": {},
   "outputs": [
    {
     "data": {
      "text/html": [
       "<div>\n",
       "<style scoped>\n",
       "    .dataframe tbody tr th:only-of-type {\n",
       "        vertical-align: middle;\n",
       "    }\n",
       "\n",
       "    .dataframe tbody tr th {\n",
       "        vertical-align: top;\n",
       "    }\n",
       "\n",
       "    .dataframe thead th {\n",
       "        text-align: right;\n",
       "    }\n",
       "</style>\n",
       "<table border=\"1\" class=\"dataframe\">\n",
       "  <thead>\n",
       "    <tr style=\"text-align: right;\">\n",
       "      <th></th>\n",
       "      <th>frequency</th>\n",
       "      <th>angle</th>\n",
       "      <th>length</th>\n",
       "      <th>velocity</th>\n",
       "      <th>thickness</th>\n",
       "      <th>sound</th>\n",
       "    </tr>\n",
       "  </thead>\n",
       "  <tbody>\n",
       "    <tr>\n",
       "      <th>count</th>\n",
       "      <td>1503.000000</td>\n",
       "      <td>1503.000000</td>\n",
       "      <td>1503.000000</td>\n",
       "      <td>1503.000000</td>\n",
       "      <td>1503.000000</td>\n",
       "      <td>1503.000000</td>\n",
       "    </tr>\n",
       "    <tr>\n",
       "      <th>mean</th>\n",
       "      <td>2886.380572</td>\n",
       "      <td>6.782302</td>\n",
       "      <td>0.136548</td>\n",
       "      <td>50.860745</td>\n",
       "      <td>0.011140</td>\n",
       "      <td>124.835943</td>\n",
       "    </tr>\n",
       "    <tr>\n",
       "      <th>std</th>\n",
       "      <td>3152.573137</td>\n",
       "      <td>5.918128</td>\n",
       "      <td>0.093541</td>\n",
       "      <td>15.572784</td>\n",
       "      <td>0.013150</td>\n",
       "      <td>6.898657</td>\n",
       "    </tr>\n",
       "    <tr>\n",
       "      <th>min</th>\n",
       "      <td>200.000000</td>\n",
       "      <td>0.000000</td>\n",
       "      <td>0.025400</td>\n",
       "      <td>31.700000</td>\n",
       "      <td>0.000401</td>\n",
       "      <td>103.380000</td>\n",
       "    </tr>\n",
       "    <tr>\n",
       "      <th>25%</th>\n",
       "      <td>800.000000</td>\n",
       "      <td>2.000000</td>\n",
       "      <td>0.050800</td>\n",
       "      <td>39.600000</td>\n",
       "      <td>0.002535</td>\n",
       "      <td>120.191000</td>\n",
       "    </tr>\n",
       "    <tr>\n",
       "      <th>50%</th>\n",
       "      <td>1600.000000</td>\n",
       "      <td>5.400000</td>\n",
       "      <td>0.101600</td>\n",
       "      <td>39.600000</td>\n",
       "      <td>0.004957</td>\n",
       "      <td>125.721000</td>\n",
       "    </tr>\n",
       "    <tr>\n",
       "      <th>75%</th>\n",
       "      <td>4000.000000</td>\n",
       "      <td>9.900000</td>\n",
       "      <td>0.228600</td>\n",
       "      <td>71.300000</td>\n",
       "      <td>0.015576</td>\n",
       "      <td>129.995500</td>\n",
       "    </tr>\n",
       "    <tr>\n",
       "      <th>max</th>\n",
       "      <td>20000.000000</td>\n",
       "      <td>22.200000</td>\n",
       "      <td>0.304800</td>\n",
       "      <td>71.300000</td>\n",
       "      <td>0.058411</td>\n",
       "      <td>140.987000</td>\n",
       "    </tr>\n",
       "  </tbody>\n",
       "</table>\n",
       "</div>"
      ],
      "text/plain": [
       "          frequency        angle       length     velocity    thickness  \\\n",
       "count   1503.000000  1503.000000  1503.000000  1503.000000  1503.000000   \n",
       "mean    2886.380572     6.782302     0.136548    50.860745     0.011140   \n",
       "std     3152.573137     5.918128     0.093541    15.572784     0.013150   \n",
       "min      200.000000     0.000000     0.025400    31.700000     0.000401   \n",
       "25%      800.000000     2.000000     0.050800    39.600000     0.002535   \n",
       "50%     1600.000000     5.400000     0.101600    39.600000     0.004957   \n",
       "75%     4000.000000     9.900000     0.228600    71.300000     0.015576   \n",
       "max    20000.000000    22.200000     0.304800    71.300000     0.058411   \n",
       "\n",
       "             sound  \n",
       "count  1503.000000  \n",
       "mean    124.835943  \n",
       "std       6.898657  \n",
       "min     103.380000  \n",
       "25%     120.191000  \n",
       "50%     125.721000  \n",
       "75%     129.995500  \n",
       "max     140.987000  "
      ]
     },
     "execution_count": 222,
     "metadata": {},
     "output_type": "execute_result"
    }
   ],
   "source": [
    "# Quick summary statistics of the dataset features\n",
    "data.describe(include='all')"
   ]
  },
  {
   "cell_type": "markdown",
   "metadata": {},
   "source": [
    "Με τις παραπάνω εξόδους επιβεβαιώνουμε τον αριθμό δειγμάτων και χαρακτηριστικών, καθώς και τον τύπο τους. Στη συνέχεια, ελέγχουμε αν υπάρχουν απουσιάζουσε τιμές."
   ]
  },
  {
   "cell_type": "code",
   "execution_count": 223,
   "metadata": {},
   "outputs": [
    {
     "data": {
      "text/plain": [
       "frequency    0\n",
       "angle        0\n",
       "length       0\n",
       "velocity     0\n",
       "thickness    0\n",
       "sound        0\n",
       "dtype: int64"
      ]
     },
     "execution_count": 223,
     "metadata": {},
     "output_type": "execute_result"
    }
   ],
   "source": [
    "data.isnull().sum()"
   ]
  },
  {
   "cell_type": "markdown",
   "metadata": {},
   "source": [
    "Παρατηρούμε πως δεν απουσιάζει καμία τιμή οπότε προχωράμε στο διαχωρισμό του dataset σε train και test χρησιμοποιώντας το 30% για test όπως συνηθίζεται. Δεν χρησιμοποιούμε κάποιο ξεχωριστό validation set, καθώς για τη βελτιστοποίηση και επιλογή μοντέλων θα χρησιμοποιήσουμε grid-search cross-validation."
   ]
  },
  {
   "cell_type": "code",
   "execution_count": 224,
   "metadata": {},
   "outputs": [],
   "source": [
    "# split features and target variable in X and y\n",
    "y = data['sound']\n",
    "X = data.drop(['sound'], axis=1)\n",
    "\n",
    "# train-test split\n",
    "X_train, X_test, y_train, y_test = train_test_split(X, y, test_size=0.3, random_state=42)"
   ]
  },
  {
   "cell_type": "markdown",
   "metadata": {},
   "source": [
    "## Data Preprocessing"
   ]
  },
  {
   "cell_type": "markdown",
   "metadata": {},
   "source": [
    "Η προ-επεξεργασία των δεδομένων θα γίνει με βάση cross-validation του μοντέλου Lasso, το οποίο μπορεί να χρησιμοποιηθεί και για\n",
    "επιλογή χαρακτηριστικών. Συνήθως αυτά τα βήματα γίνονται στην αρχή πριν τη μάθηση, επομένως δεν θα βελτιστοποιούμε την \n",
    "προ-επεξεργασία με βάση κάθε αλγόριθμο, αφού πιο σημαντικό ρόλο στη βελτιστοποίηση θα παίζουν οι παράμετροι του ίδιου του \n",
    "αλγορίθμου, αργότερα.\n",
    "\n",
    "Αρχικά ελέγχουμε αν έχουμε χαρακτηριστικά με μηδενικό variance, ώστε να τα αφαιρέσουμε, αφού δεν θα έχουν νόημα στο μοντέλο."
   ]
  },
  {
   "cell_type": "code",
   "execution_count": 225,
   "metadata": {},
   "outputs": [
    {
     "name": "stdout",
     "output_type": "stream",
     "text": [
      "frequency    1.074673e+07\n",
      "angle        3.429966e+01\n",
      "length       8.787538e-03\n",
      "velocity     2.431528e+02\n",
      "thickness    1.699744e-04\n",
      "dtype: float64\n"
     ]
    }
   ],
   "source": [
    "# check variance\n",
    "Xvar = np.var(X_train, axis=0)\n",
    "print(Xvar)"
   ]
  },
  {
   "cell_type": "markdown",
   "metadata": {},
   "source": [
    "Βλέπουμε πως δεν υπάρχουν. Δεν θα ελέγξουμε για thresholds, αφού θα χρησιμοποιήσουμε Lasso για επιλογή χαρακτηριστικών\n",
    "και θα δούμε αν κάποιο δεν χρειάζεται. \n",
    "\n",
    "Στη συνέχεια, κάνουμε cross-validate Lasso πάντα χρησιμοποιώντας την παράμετρο κανονικοποίησης alpha, όπου για μικρές τιμές η κανονικοποίηση είναι μικρότερη, ενώ για μεγάλες μεγαλύτερη. Στο cross-validation χρησιμοποιούμε negative mean squared error για score και 10 folds μιας και το dataset είναι μικρό.\n",
    "\n",
    "Αρχικά, εξετάζουμε την μορφή κανονικοποίησης των δεδομένων, μεταξύ καθόλου scaling, min-max scaler ή standard scaler."
   ]
  },
  {
   "cell_type": "code",
   "execution_count": 226,
   "metadata": {},
   "outputs": [
    {
     "name": "stdout",
     "output_type": "stream",
     "text": [
      "-23.18154647389742\n",
      "{'alpha': 1e-06}\n"
     ]
    }
   ],
   "source": [
    "# no scaler\n",
    "lasso = Lasso(alpha=1.0, random_state=0)\n",
    "parameters = {'alpha': [1e-6, 1e-5, 1e-4, 0.001, 0.01, 0.1, 1]}\n",
    "lasso_cv = GridSearchCV(lasso, parameters, scoring='neg_mean_squared_error', cv=10, n_jobs=5)\n",
    "lasso_cv.fit(X_train, y_train)\n",
    "\n",
    "print(lasso_cv.best_score_)\n",
    "print(lasso_cv.best_params_)"
   ]
  },
  {
   "cell_type": "code",
   "execution_count": 227,
   "metadata": {},
   "outputs": [
    {
     "name": "stdout",
     "output_type": "stream",
     "text": [
      "-23.181544813625713\n",
      "{'lasso__alpha': 1e-06}\n"
     ]
    }
   ],
   "source": [
    "# standard scaler\n",
    "lasso = Pipeline([('scaler', StandardScaler()), ('lasso', Lasso(alpha=1.0, random_state=0))])\n",
    "parameters = {'lasso__alpha': [1e-6, 1e-5, 1e-4, 0.001, 0.01, 0.1, 1]}\n",
    "lasso_cv = GridSearchCV(lasso, parameters, scoring='neg_mean_squared_error', cv=10, n_jobs=5)\n",
    "lasso_cv.fit(X_train, y_train)\n",
    "\n",
    "print(lasso_cv.best_score_)\n",
    "print(lasso_cv.best_params_)"
   ]
  },
  {
   "cell_type": "code",
   "execution_count": 228,
   "metadata": {},
   "outputs": [
    {
     "name": "stdout",
     "output_type": "stream",
     "text": [
      "-23.181544792710053\n",
      "{'lasso__alpha': 1e-06}\n"
     ]
    }
   ],
   "source": [
    "# min-max scaler\n",
    "lasso = Pipeline([('scaler', MinMaxScaler()), ('lasso', Lasso(alpha=1.0, random_state=0))])\n",
    "parameters = {'lasso__alpha': [1e-6, 1e-5, 1e-4, 0.001, 0.01, 0.1, 1]}\n",
    "lasso_cv = GridSearchCV(lasso, parameters, scoring='neg_mean_squared_error', cv=10, n_jobs=5)\n",
    "lasso_cv.fit(X_train, y_train)\n",
    "\n",
    "print(lasso_cv.best_score_)\n",
    "print(lasso_cv.best_params_)"
   ]
  },
  {
   "cell_type": "markdown",
   "metadata": {},
   "source": [
    "Δεν παρατηρούμε μεγάλη διαφορά, αλλά θα κρατήσουμε τον standard scaler μια και χρειάζεται σε πολλούς αρλγορίθμους."
   ]
  },
  {
   "cell_type": "code",
   "execution_count": 229,
   "metadata": {},
   "outputs": [],
   "source": [
    "# scaling\n",
    "scaler = StandardScaler()\n",
    "X_train = scaler.fit_transform(X_train)\n",
    "X_test = scaler.transform(X_test)"
   ]
  },
  {
   "cell_type": "markdown",
   "metadata": {},
   "source": [
    "## Feature Selection / Extraction"
   ]
  },
  {
   "cell_type": "markdown",
   "metadata": {},
   "source": [
    "Στη συνέχεια κάνουμε feature selection χρησιμοποιώντας τη μέθοδο recursive feature elimination με cross-validation με το\n",
    "μοντέλο Lasso, ώστε να αφαιρέσουμε χαρακτηριστικά που με βάση τα βάρη του Lasso δεν είναι σημαντικά. Στο μοντέλο χρησιμοποιούμε το καλύτερο alpha που βρήκαμε πριν, δηλαδή 1e-6, το οποίο βλέπουμε είναι πολύ μικρό, άρα δεν χρειαζόταν σημαντική κανονικοποίηση."
   ]
  },
  {
   "cell_type": "code",
   "execution_count": 231,
   "metadata": {},
   "outputs": [
    {
     "name": "stdout",
     "output_type": "stream",
     "text": [
      "[ True  True  True  True  True]\n",
      "[1 1 1 1 1]\n"
     ]
    }
   ],
   "source": [
    "# feature selection\n",
    "selector = RFECV(Lasso(alpha=1e-6, random_state=0), step=1, cv=10, scoring='neg_mean_squared_error', n_jobs=5)\n",
    "selector.fit(X_train, y_train)\n",
    "print(selector.support_)\n",
    "print(selector.ranking_)"
   ]
  },
  {
   "cell_type": "markdown",
   "metadata": {},
   "source": [
    "Βλέπουμε πως όλα τα χαρακτηριστικά είναι σημαντικά για το μοντέλο οπότε δεν θα αφαιρέσουμε κάποιο. Μια τελευταία δοκιμή που θα\n",
    "κάνουμε είναι εξαγωγή χαρακτηριστικών με PCA, δοκιμάζοντας να μειώσουμε ελάχιστα τη διάσταση."
   ]
  },
  {
   "cell_type": "code",
   "execution_count": 232,
   "metadata": {},
   "outputs": [
    {
     "name": "stdout",
     "output_type": "stream",
     "text": [
      "-23.721215688008023\n",
      "{'lasso__alpha': 0.1, 'pca__n_components': 4}\n"
     ]
    }
   ],
   "source": [
    "lasso = Pipeline([('pca', PCA(n_components=4, random_state=0)), ('lasso', Lasso(alpha=1e-6, random_state=0))])\n",
    "parameters = {'pca__n_components': [1, 2, 3, 4], 'lasso__alpha': [1e-6, 1e-5, 1e-4, 0.001, 0.01, 0.1, 1]}\n",
    "lasso_cv = GridSearchCV(lasso, parameters, scoring='neg_mean_squared_error', cv=10, n_jobs=5)\n",
    "lasso_cv.fit(X_train, y_train)\n",
    "\n",
    "print(lasso_cv.best_score_)\n",
    "print(lasso_cv.best_params_)"
   ]
  },
  {
   "cell_type": "markdown",
   "metadata": {},
   "source": [
    "Παρατηρούμε πως με μείωση της διάστασης με PCA δεν βελτιώνεται το αποτέλεσμα οπότε δεν θα προβούμε σε κάτι τέτοιο."
   ]
  },
  {
   "cell_type": "markdown",
   "metadata": {},
   "source": [
    "## Εκπαίδευση μοντέλων"
   ]
  },
  {
   "cell_type": "markdown",
   "metadata": {},
   "source": [
    "Αφού τα δεδομένα είναι έτοιμα θα εκπαιδεύσουμε και βελτιστοποιήσουμε διαφορετικά μοντέλα. Για την ακρίβεια, θα χρησιμοποιήσουμε τα \n",
    "μοντέλα Ordinary Least Squares, Lasso, Ridge, SGD, Decision Tree, Random Forest και Gradient Boosting. Σε κάθε μοντέλο κάνουμε δύο gridsearch, ένα με μεγαλύτερο εύρος τιμών και ένα με στενότερο/προσαρμοσμένο με βάση τα αποτελέσματα του προηγουμένου.\n"
   ]
  },
  {
   "cell_type": "markdown",
   "metadata": {},
   "source": [
    "### Dataframes for  results\n",
    "\n",
    "Πριν εκπαιδεύσουμε τους αλγορίθμους φτιάχνουμε τις απαραίτητες δομές δεδομένων για να αποθηκεύουμε αποτελέσματα που μας ενδιαφέρουν για κάθε αλγόριθμο. Συγκεκριμέμα, θα αποθηκεύουμε τις μετρικές MSE και MAE για το test set, χρόνους εκτέλεσης τελικού fit και predict και τη μεταβολή MSE πριν και μετά τη βελτιστοποίηση."
   ]
  },
  {
   "cell_type": "code",
   "execution_count": 260,
   "metadata": {},
   "outputs": [],
   "source": [
    "# model names to use as index for the dataframes\n",
    "model_names = ['Ordinary Least Squares', 'Lasso', 'Ridge', 'SGD', 'Decision Tree', 'Random Forest', 'Gradient Boosting']\n",
    "# store fit and predict time\n",
    "times = pd.DataFrame(.0, index=model_names, columns=['Fit Time', 'Predict Time'])\n",
    "# store MSE and MAE metrics\n",
    "metrics = pd.DataFrame(.0, index=model_names, columns=['MSE', 'MAE'])\n",
    "# the percentage change of MSE after tuning the model\n",
    "mse_change = pd.DataFrame(.0, index=model_names, columns=['% MSE change'])   \n",
    "\n",
    "def get_results(model, model_name, mse_default):\n",
    "    \"\"\" Fit final model, predict test, print and store results\n",
    "    \"\"\"\n",
    "    # fit model\n",
    "    start = time.time()\n",
    "    model.fit(X_train, y_train)  # fit\n",
    "    end = time.time()\n",
    "    fit_time = round(end - start, 4)  # fit time\n",
    "\n",
    "    # predict\n",
    "    start = time.time()\n",
    "    y_pred = model.predict(X_test)  # predict\n",
    "    end = time.time()\n",
    "    predict_time = round(end - start, 4) # predict time\n",
    "\n",
    "    # evaluation\n",
    "    mse = round(mean_squared_error(y_test, y_pred), 3)\n",
    "    mae = round(mean_absolute_error(y_test, y_pred), 3)\n",
    "\n",
    "    # percentage change\n",
    "    change = round((mse - mse_default)/mse_default * 100, 2)  # change is zero since there is no optimizations for this model\n",
    "\n",
    "    print(\"Results for \" + model_name + \":\\n\")\n",
    "    print(\"MSE:\", mse)\n",
    "    print(\"MAE:\", mae)\n",
    "    print(\"Time to fit:\", fit_time)\n",
    "    print(\"Time to predict:\", predict_time)\n",
    "    print(\"Percentage of MSE change: \" + str(change) + \"%\")\n",
    "    \n",
    "    times.loc[model_name]['Fit Time'] = fit_time\n",
    "    times.loc[model_name]['Predict Time'] = predict_time\n",
    "    metrics.loc[model_name]['MSE'] = mse\n",
    "    metrics.loc[model_name]['MAE'] = mae\n",
    "    mse_change.loc[model_name]['% MSE change'] = change"
   ]
  },
  {
   "cell_type": "markdown",
   "metadata": {},
   "source": [
    "### Oridanary Least Squares\n",
    "\n",
    "Θα εκπαιδεύσουμε ένα απλό γραμμικό μοντέλο που δεν έχει κάποιες σημαντικές παραμέτρους για βελτιστοποίηση."
   ]
  },
  {
   "cell_type": "code",
   "execution_count": 264,
   "metadata": {},
   "outputs": [
    {
     "name": "stdout",
     "output_type": "stream",
     "text": [
      "MSE with default parameters: 23.68785829002623\n"
     ]
    }
   ],
   "source": [
    "# train with default parameters\n",
    "model = LinearRegression()\n",
    "model.fit(X_train, y_train)\n",
    "mse_default = mean_squared_error(y_test, model.predict(X_test))\n",
    "print('MSE with default parameters:', mse_default)"
   ]
  },
  {
   "cell_type": "code",
   "execution_count": 265,
   "metadata": {},
   "outputs": [
    {
     "name": "stdout",
     "output_type": "stream",
     "text": [
      "Results for Ordinary Least Squares:\n",
      "\n",
      "MSE: 23.688\n",
      "MAE: 3.776\n",
      "Time to fit: 0.001\n",
      "Time to predict: 0.0\n",
      "Percentage of MSE change: 0.0%\n"
     ]
    }
   ],
   "source": [
    "get_results(LinearRegression(), 'Ordinary Least Squares', mse_default)"
   ]
  },
  {
   "cell_type": "markdown",
   "metadata": {},
   "source": [
    "### Lasso\n",
    "\n",
    "Θα εκπαιδεύσουμε ένα μοντέλο Lasso. Οι παράμετροι που θα βελτιστοποιήσουμε είναι το alpha (L1 κανονικοποίηση), max_iter (ο μέγιστος αριοθμός επαναλήψεων) και το selection (αν τα coefficients ενημερώνονται τυχαία ή σειριακά σε κάθε επανάληψη)."
   ]
  },
  {
   "cell_type": "code",
   "execution_count": 236,
   "metadata": {},
   "outputs": [
    {
     "name": "stdout",
     "output_type": "stream",
     "text": [
      "MSE with default parameters: 31.64494362117243\n"
     ]
    }
   ],
   "source": [
    "# train with default parameters\n",
    "model = Lasso(random_state=0)\n",
    "model.fit(X_train, y_train)\n",
    "mse_default = mean_squared_error(y_test, model.predict(X_test))\n",
    "print('MSE with default parameters:', mse_default)"
   ]
  },
  {
   "cell_type": "code",
   "execution_count": 237,
   "metadata": {},
   "outputs": [
    {
     "name": "stdout",
     "output_type": "stream",
     "text": [
      "-23.18152117553651\n",
      "{'alpha': 0.001, 'max_iter': 100, 'selection': 'random'}\n"
     ]
    }
   ],
   "source": [
    "# first gridsearch\n",
    "model = Lasso(alpha=1.0, max_iter=1000, selection='cyclic', random_state=0, )\n",
    "parameters = {'alpha': [1e-6, 1e-5, 1e-4, 0.001, 0.005, 0.01, 0.1, 1], 'max_iter': [100, 500, 1000, 2000, 3000], \n",
    "              'selection': ['cyclic', 'random']}\n",
    "model_cv = GridSearchCV(model, parameters, scoring='neg_mean_squared_error', cv=10, n_jobs=5)\n",
    "model_cv.fit(X_train, y_train)\n",
    "\n",
    "print(model_cv.best_score_)\n",
    "print(model_cv.best_params_)"
   ]
  },
  {
   "cell_type": "code",
   "execution_count": 238,
   "metadata": {},
   "outputs": [
    {
     "name": "stdout",
     "output_type": "stream",
     "text": [
      "-23.18152117553651\n",
      "{'alpha': 0.001, 'max_iter': 50}\n"
     ]
    }
   ],
   "source": [
    "# second gridsearch\n",
    "model = Lasso(alpha=1.0, max_iter=1000, selection='random', random_state=0, )\n",
    "parameters = {'alpha': [0.0005, 0.001, 0.005], 'max_iter': [50, 100, 200, 300]}\n",
    "model_cv = GridSearchCV(model, parameters, scoring='neg_mean_squared_error', cv=10, n_jobs=5)\n",
    "model_cv.fit(X_train, y_train)\n",
    "\n",
    "print(model_cv.best_score_)\n",
    "print(model_cv.best_params_)"
   ]
  },
  {
   "cell_type": "markdown",
   "metadata": {},
   "source": [
    "Τελικά παρατηρούμε πως το L1 regularization είναι 0.001, ο μέγιστος αριθμός επαναλήψεων 50 και τα coefficients είναι καλύτερο να ενημερώνονται τυχαία σε κάθε επανάληψη. Στη συνέχεια κάνουμε το τελικό fit και predict και παίρνουμε τα αποτελέσματα."
   ]
  },
  {
   "cell_type": "code",
   "execution_count": 266,
   "metadata": {},
   "outputs": [
    {
     "name": "stdout",
     "output_type": "stream",
     "text": [
      "Results for Lasso:\n",
      "\n",
      "MSE: 23.69\n",
      "MAE: 3.777\n",
      "Time to fit: 0.001\n",
      "Time to predict: 0.0\n",
      "Percentage of MSE change: 0.01%\n"
     ]
    }
   ],
   "source": [
    "# final model\n",
    "model = Lasso(alpha=0.001, max_iter=50, selection='random', random_state=0)\n",
    "get_results(model, 'Lasso', mse_default)"
   ]
  },
  {
   "cell_type": "markdown",
   "metadata": {},
   "source": [
    "### Ridge\n",
    "\n",
    "Θα εκπαιδεύσουμε ένα μοντέλο Ridge. Οι παράμετροι που θα βελτιστοποιήσουμε είναι το alpha (L2 κανονικοποίηση), max_iter (ο μέγιστος αριοθμός επαναλήψεων) και τον solver (μέθοδος υπολογισμού των coefficients)."
   ]
  },
  {
   "cell_type": "code",
   "execution_count": 240,
   "metadata": {},
   "outputs": [
    {
     "name": "stdout",
     "output_type": "stream",
     "text": [
      "MSE with default parameters: 23.693614735438274\n"
     ]
    }
   ],
   "source": [
    "# train with default parameters\n",
    "model = Ridge(random_state=0)\n",
    "model.fit(X_train, y_train)\n",
    "mse_default = mean_squared_error(y_test, model.predict(X_test))\n",
    "print('MSE with default parameters:', mse_default)"
   ]
  },
  {
   "cell_type": "code",
   "execution_count": 241,
   "metadata": {},
   "outputs": [
    {
     "name": "stdout",
     "output_type": "stream",
     "text": [
      "-23.17950006427972\n",
      "{'alpha': 5, 'max_iter': 50, 'solver': 'sag'}\n"
     ]
    }
   ],
   "source": [
    "# first gridsearch\n",
    "model = Ridge(alpha=1.0, max_iter=None, solver='auto', random_state=0)\n",
    "parameters = {'alpha': [1e-4, 0.001, 0.01, 0.1, 1, 3, 5, 7, 10], 'max_iter': [50, 100, 500, 1000, 2000, 3000],\n",
    "              'solver': ['svd', 'cholesky', 'lsqr', 'sparse_cg', 'sag', 'saga']}\n",
    "model_cv = GridSearchCV(model, parameters, scoring='neg_mean_squared_error', cv=10, n_jobs=5)\n",
    "model_cv.fit(X_train, y_train)\n",
    "\n",
    "print(model_cv.best_score_)\n",
    "print(model_cv.best_params_)"
   ]
  },
  {
   "cell_type": "code",
   "execution_count": 242,
   "metadata": {},
   "outputs": [
    {
     "name": "stdout",
     "output_type": "stream",
     "text": [
      "-23.179096302189407\n",
      "{'alpha': 4, 'max_iter': 20}\n"
     ]
    }
   ],
   "source": [
    "# second gridsearch\n",
    "model = Ridge(alpha=1.0, max_iter=None, solver='sag', random_state=0)\n",
    "parameters = {'alpha': [2, 3, 4, 5, 6, 7, 8, 9], 'max_iter': [10, 20, 30, 40, 50, 60, 70, 80, 90]}\n",
    "model_cv = GridSearchCV(model, parameters, scoring='neg_mean_squared_error', cv=10, n_jobs=5)\n",
    "model_cv.fit(X_train, y_train)\n",
    "\n",
    "print(model_cv.best_score_)\n",
    "print(model_cv.best_params_)"
   ]
  },
  {
   "cell_type": "markdown",
   "metadata": {},
   "source": [
    "Τελικά παρατηρούμε ότι το L2 regularization είναι 4, ο solver είναι ο sag (Stochastic Average Gradient descent) και ο μέγιστος αριθμός επαναλήψεων είναι 20."
   ]
  },
  {
   "cell_type": "code",
   "execution_count": 267,
   "metadata": {},
   "outputs": [
    {
     "name": "stdout",
     "output_type": "stream",
     "text": [
      "Results for Ridge:\n",
      "\n",
      "MSE: 23.713\n",
      "MAE: 3.781\n",
      "Time to fit: 0.002\n",
      "Time to predict: 0.0\n",
      "Percentage of MSE change: 0.11%\n"
     ]
    }
   ],
   "source": [
    "# final model\n",
    "model = Ridge(alpha=4, solver='sag', max_iter=20, random_state=0)\n",
    "get_results(model, 'Ridge', mse_default)"
   ]
  },
  {
   "cell_type": "markdown",
   "metadata": {},
   "source": [
    "### Stohastic Gradient Descent\n",
    "\n",
    "Θα εκπαιδεύσουμε ένα μοντέλο SGD. Οι παράμετροι που θα βελτιστοποιήσουμε είναι το loss (συνάρτηση κόστους), penalty (ο τύπος κανονικοποίησης), alpha (βαθμός κανονικοποίησης), learning_rate (κανόνας ενημέρωσης του learning rate) και eta0 (η αρχική τιμή learning rate)."
   ]
  },
  {
   "cell_type": "code",
   "execution_count": 244,
   "metadata": {},
   "outputs": [
    {
     "name": "stdout",
     "output_type": "stream",
     "text": [
      "MSE with default parameters: 23.645324848052333\n"
     ]
    }
   ],
   "source": [
    "# train with default parameters\n",
    "model = SGDRegressor(random_state=0)\n",
    "model.fit(X_train, y_train)\n",
    "mse_default = mean_squared_error(y_test, model.predict(X_test))\n",
    "print('MSE with default parameters:', mse_default)"
   ]
  },
  {
   "cell_type": "code",
   "execution_count": 245,
   "metadata": {},
   "outputs": [
    {
     "name": "stdout",
     "output_type": "stream",
     "text": [
      "-23.32464330024135\n",
      "{'alpha': 0.0001, 'eta0': 0.001, 'learning_rate': 'constant', 'loss': 'squared_epsilon_insensitive', 'penalty': 'l1'}\n"
     ]
    }
   ],
   "source": [
    "# first gris search\n",
    "model = SGDRegressor(loss='squared_loss', penalty='l2', alpha=0.0001, l1_ratio=0.15, epsilon=0.1, learning_rate='invscaling', \n",
    "                     eta0=0.01, power_t=0.25, early_stopping=True, random_state=0)\n",
    "parameters = {'loss': ['squared_loss', 'huber', 'epsilon_insensitive', 'squared_epsilon_insensitive'],\n",
    "              'penalty': ['l2', 'l1', 'elasticnet'], 'alpha': [1e-6, 1e-5, 1e-4, 0.001, 0.01, 0.1, 1, 5, 10],\n",
    "              'learning_rate': ['constant', 'optimal', 'invscaling', 'adaptive'], 'eta0': [0.001, 0.01, 0.1]}\n",
    "model_cv = GridSearchCV(model, parameters, scoring='neg_mean_squared_error', cv=5, n_jobs=5)\n",
    "model_cv.fit(X_train, y_train)\n",
    "\n",
    "print(model_cv.best_score_)\n",
    "print(model_cv.best_params_)"
   ]
  },
  {
   "cell_type": "markdown",
   "metadata": {},
   "source": [
    "Μια και το loss είναι το squared_epsilon_insensitive θα βελτιστοποιήσουμε και την παράμετρο epsilon και αφού το \n",
    "learning rate είναι constant θα αφαιρέσουμε το early stopping και θα βελτιστοποιήσουμε τον μέγιστο αριθμό iterations."
   ]
  },
  {
   "cell_type": "code",
   "execution_count": 246,
   "metadata": {},
   "outputs": [
    {
     "name": "stdout",
     "output_type": "stream",
     "text": [
      "-23.1502533740756\n",
      "{'alpha': 0.01, 'epsilon': 1, 'eta0': 0.01, 'max_iter': 50}\n"
     ]
    }
   ],
   "source": [
    "# second grid search\n",
    "model = SGDRegressor(loss='squared_epsilon_insensitive', penalty='l1', alpha=0.0001, epsilon=0.1,\n",
    "                     learning_rate='constant', eta0=0.01, max_iter=1000, random_state=0)\n",
    "parameters = {'alpha': [1e-5, 1e-4, 0.001, 0.01, 0.1, 1, 5, 10], 'eta0': [0.0001, 0.001, 0.01, 0.1],\n",
    "              'epsilon': [1e-5, 1e-4, 0.001, 0.01, 0.1, 1, 5, 10], 'max_iter': [50, 100, 500, 1000, 2000]}\n",
    "model_cv = GridSearchCV(model, parameters, scoring='neg_mean_squared_error', cv=10, n_jobs=5)\n",
    "model_cv.fit(X_train, y_train)\n",
    "\n",
    "print(model_cv.best_score_)\n",
    "print(model_cv.best_params_)"
   ]
  },
  {
   "cell_type": "markdown",
   "metadata": {},
   "source": [
    "Τελικά η L1 κανονικοποίηση είναι 0.01, το epsilon 1, το αρχικό learning rate 0.01 και ο μέγιστος αριθμός επαναλήψεων 50."
   ]
  },
  {
   "cell_type": "code",
   "execution_count": 268,
   "metadata": {},
   "outputs": [
    {
     "name": "stdout",
     "output_type": "stream",
     "text": [
      "Results for SGD:\n",
      "\n",
      "MSE: 23.842\n",
      "MAE: 3.879\n",
      "Time to fit: 0.001\n",
      "Time to predict: 0.0\n",
      "Percentage of MSE change: 0.65%\n"
     ]
    }
   ],
   "source": [
    "# final model\n",
    "model = SGDRegressor(loss='squared_epsilon_insensitive', penalty='l1', alpha=0.01, epsilon=1,\n",
    "                     learning_rate='constant', eta0=0.01, max_iter=50, random_state=0)\n",
    "get_results(model, 'SGD', mse_default)"
   ]
  },
  {
   "cell_type": "markdown",
   "metadata": {},
   "source": [
    "### Decision Tree\n",
    "\n",
    "Θα εκπαιδεύσουμε ένα Decision Tree. Οι παράμετροι που θα βελτιστοποιήσουμε είναι το criterion (κριτήριο για επιλογή split), max_depth (το μέγιστο βάθος του δέντρου για αποφυγή overfitting), max_features (τον μέγιστο αριθμό features που κοιτάει για το καλύτερο split) και min_impurity_decrease (ελάχιστη βελτίωση του impurity που μπορεί να έχει κάποιο split ώστε να γίνει)."
   ]
  },
  {
   "cell_type": "code",
   "execution_count": 248,
   "metadata": {},
   "outputs": [
    {
     "name": "stdout",
     "output_type": "stream",
     "text": [
      "MSE with default parameters: 7.6981605144124154\n"
     ]
    }
   ],
   "source": [
    "# train with default parameters\n",
    "model = DecisionTreeRegressor(random_state=0)\n",
    "model.fit(X_train, y_train)\n",
    "mse_default = mean_squared_error(y_test, model.predict(X_test))\n",
    "print('MSE with default parameters:', mse_default)"
   ]
  },
  {
   "cell_type": "code",
   "execution_count": 249,
   "metadata": {},
   "outputs": [
    {
     "name": "stdout",
     "output_type": "stream",
     "text": [
      "-7.5469535518531\n",
      "{'criterion': 'mae', 'max_depth': 50, 'max_features': 4, 'min_impurity_decrease': 0.0001}\n"
     ]
    }
   ],
   "source": [
    "# first gridsearch\n",
    "model = DecisionTreeRegressor(criterion='mse', max_depth=None, max_features=None, min_impurity_decrease=0.0, random_state=0)\n",
    "parameters = {'criterion': ['mse', 'friedman_mse', 'mae', 'poisson'], 'max_depth': [10, 50, 100, 200, 500], \n",
    "              'max_features': [1, 2, 3, 4, 5], 'min_impurity_decrease': [0, 1e-5, 1e-4, 0.001, 0.01]}\n",
    "model_cv = GridSearchCV(model, parameters, scoring='neg_mean_squared_error', cv=10, n_jobs=5)\n",
    "model_cv.fit(X_train, y_train)\n",
    "\n",
    "print(model_cv.best_score_)\n",
    "print(model_cv.best_params_)"
   ]
  },
  {
   "cell_type": "code",
   "execution_count": 250,
   "metadata": {},
   "outputs": [
    {
     "name": "stdout",
     "output_type": "stream",
     "text": [
      "-7.5469535518531\n",
      "{'max_depth': 20, 'max_features': 4, 'min_impurity_decrease': 0.0001}\n"
     ]
    }
   ],
   "source": [
    "# second gridsearch\n",
    "model = DecisionTreeRegressor(criterion='mae', max_depth=None, max_features=None, min_impurity_decrease=0.0, random_state=0)\n",
    "parameters = {'max_depth': [20, 30, 40, 50, 60, 70, 80, 90], 'max_features': [3, 4, 5], \n",
    "              'min_impurity_decrease': [1e-5, 1e-4, 0.001]}\n",
    "model_cv = GridSearchCV(model, parameters, scoring='neg_mean_squared_error', cv=10, n_jobs=5)\n",
    "model_cv.fit(X_train, y_train)\n",
    "\n",
    "print(model_cv.best_score_)\n",
    "print(model_cv.best_params_)"
   ]
  },
  {
   "cell_type": "markdown",
   "metadata": {},
   "source": [
    "Βλέπουμε πως το κριτήριο είναι το MAE, το μέγιστο βάθος είναι 20, τα features που κοιτάει για το split είναι 4, και η ελάχιστη βελτίωση του impurity είναι 0.0001."
   ]
  },
  {
   "cell_type": "code",
   "execution_count": 269,
   "metadata": {},
   "outputs": [
    {
     "name": "stdout",
     "output_type": "stream",
     "text": [
      "Results for Decision Tree:\n",
      "\n",
      "MSE: 7.512\n",
      "MAE: 2.075\n",
      "Time to fit: 0.016\n",
      "Time to predict: 0.001\n",
      "Percentage of MSE change: -68.29%\n"
     ]
    }
   ],
   "source": [
    "# final model\n",
    "model = DecisionTreeRegressor(criterion='mae', max_depth=20, max_features=4, min_impurity_decrease=0.0001, random_state=0)\n",
    "get_results(model, 'Decision Tree', mse_default)"
   ]
  },
  {
   "cell_type": "markdown",
   "metadata": {},
   "source": [
    "### Random Forest\n",
    "\n",
    "Θα εκπαιδεύσουμε ένα Random Forest. Οι παράμετροι που θα βελτιστοποιήσουμε είναι όπως και στο Decision Tree, αλλά επιπλέον θα βελτιστοποιήσουμε την n_estimators (πόσα δέντρα θα φτιαχτούν) και max_samples (με πόσα δείγματα θα εκπαιδεύεται κάθε δέντρο)."
   ]
  },
  {
   "cell_type": "code",
   "execution_count": 252,
   "metadata": {},
   "outputs": [
    {
     "name": "stdout",
     "output_type": "stream",
     "text": [
      "MSE with default parameters: 3.4879180036638435\n"
     ]
    }
   ],
   "source": [
    "# train with default parameters\n",
    "model = RandomForestRegressor(n_jobs=5, random_state=0)\n",
    "model.fit(X_train, y_train)\n",
    "mse_default = mean_squared_error(y_test, model.predict(X_test))\n",
    "print('MSE with default parameters:', mse_default)"
   ]
  },
  {
   "cell_type": "code",
   "execution_count": 253,
   "metadata": {},
   "outputs": [
    {
     "name": "stdout",
     "output_type": "stream",
     "text": [
      "-4.258895177879262\n",
      "{'criterion': 'mse', 'max_depth': 50, 'max_features': 5, 'max_samples': None, 'n_estimators': 150}\n"
     ]
    }
   ],
   "source": [
    "# first gridsearch\n",
    "model = RandomForestRegressor(n_estimators=100, criterion='mse', max_depth=None, min_impurity_decrease=0.0,\n",
    "                              max_samples=None, n_jobs=5, random_state=0)\n",
    "parameters = {'n_estimators': [50, 100, 150], 'criterion': ['mse', 'mae'], 'max_depth': [10, 30, 50],\n",
    "              'max_features': [1, 3, 5], 'max_samples': [0.1, 0.4, 0.7, None]}\n",
    "model_cv = GridSearchCV(model, parameters, scoring='neg_mean_squared_error', cv=5, n_jobs=5)\n",
    "model_cv.fit(X_train, y_train)\n",
    "\n",
    "print(model_cv.best_score_)\n",
    "print(model_cv.best_params_)"
   ]
  },
  {
   "cell_type": "code",
   "execution_count": 254,
   "metadata": {},
   "outputs": [
    {
     "name": "stdout",
     "output_type": "stream",
     "text": [
      "-4.200928505846639\n",
      "{'max_depth': 20, 'max_features': 5, 'max_samples': None, 'n_estimators': 250}\n"
     ]
    }
   ],
   "source": [
    "# second gridsearch\n",
    "model = RandomForestRegressor(n_estimators=100, criterion='mse', max_depth=None, min_impurity_decrease=0.0,\n",
    "                              max_samples=None, n_jobs=5, random_state=0)\n",
    "parameters = {'n_estimators': [150, 200, 250, 300], 'max_depth': [10, 20, 30, 40], 'max_features': [4, 5],\n",
    "              'max_samples': [0.8, 0.9, None]}\n",
    "model_cv = GridSearchCV(model, parameters, scoring='neg_mean_squared_error', cv=5, n_jobs=5)\n",
    "model_cv.fit(X_train, y_train)\n",
    "\n",
    "print(model_cv.best_score_)\n",
    "print(model_cv.best_params_)"
   ]
  },
  {
   "cell_type": "markdown",
   "metadata": {},
   "source": [
    "Τελικά ως κριτήριο split επιλέχθηκε το MSE, το μέγιστο βάθος είναι 20, ελέγχονται όλα τα features σε κάθε split, κάθε δέντρο εκπαιδεύεται με όλα τα δεδομένα και συνολικά έχουμε 250 δέντρα."
   ]
  },
  {
   "cell_type": "code",
   "execution_count": 270,
   "metadata": {},
   "outputs": [
    {
     "name": "stdout",
     "output_type": "stream",
     "text": [
      "Results for Random Forest:\n",
      "\n",
      "MSE: 3.402\n",
      "MAE: 1.362\n",
      "Time to fit: 0.3967\n",
      "Time to predict: 0.1091\n",
      "Percentage of MSE change: -85.64%\n"
     ]
    }
   ],
   "source": [
    "# final model\n",
    "model = RandomForestRegressor(n_estimators=250, criterion='mse', max_depth=20, max_features=5, max_samples=None, n_jobs=5, \n",
    "                              random_state=0)\n",
    "get_results(model, 'Random Forest', mse_default)"
   ]
  },
  {
   "cell_type": "markdown",
   "metadata": {},
   "source": [
    "### Gradient Boosting\n",
    "\n",
    "Θα χρησιμοποιήσουμε Gradient Boosting με δέντρα. Οι παράμετροι που θα βελτιστοποιήσουμε είναι όπως και στο Decision Tree, αλλά επιπλέον θα βελτιστοποιήσουμε το loss, το learning rate και το subsample (με πόσα δείγματα θα εκπαιδεύεται κάθε δέντρο). Δεν θα βελτιστοποιήσουμε τον αριθμό των δέντρων, καθώς υπάρχει trade-off με το learning rate και επηρεάζεται από το subsample, οπότε θα κρατήσουμε το default n_estimators=100. Επίσης, χρησιμοποιούμε early-stopping για πιο γρήγορο cross-validation και αποφυγή over-fitting."
   ]
  },
  {
   "cell_type": "code",
   "execution_count": 256,
   "metadata": {},
   "outputs": [
    {
     "name": "stdout",
     "output_type": "stream",
     "text": [
      "MSE with default parameters: 7.764743156450438\n"
     ]
    }
   ],
   "source": [
    "# train with default parameters\n",
    "model = GradientBoostingRegressor(random_state=0)\n",
    "model.fit(X_train, y_train)\n",
    "mse_default = mean_squared_error(y_test, model.predict(X_test))\n",
    "print('MSE with default parameters:', mse_default)"
   ]
  },
  {
   "cell_type": "code",
   "execution_count": 257,
   "metadata": {},
   "outputs": [
    {
     "name": "stdout",
     "output_type": "stream",
     "text": [
      "-3.7130154505728803\n",
      "{'criterion': 'friedman_mse', 'learning_rate': 0.1, 'loss': 'ls', 'max_depth': 6, 'max_features': 3, 'subsample': 0.7}\n"
     ]
    }
   ],
   "source": [
    "# first gridsearch\n",
    "model = GradientBoostingRegressor(loss='ls', learning_rate=0.1, subsample=1.0, criterion='friedman_mse', max_depth=3,\n",
    "                                  max_features=None, n_iter_no_change=5, random_state=0)\n",
    "parameters = {'loss': ['ls', 'lad', 'huber', 'quantile'], 'learning_rate': [0.001, 0.01, 0.1],\n",
    "              'subsample': [0.1, 0.4, 0.7, 1], 'criterion': ['friedman_mse', 'mse', 'mae'], 'max_depth': [2, 4, 6],\n",
    "              'max_features': [1, 3, 5]}\n",
    "model_cv = GridSearchCV(model, parameters, scoring='neg_mean_squared_error', cv=5, n_jobs=5)\n",
    "model_cv.fit(X_train, y_train)\n",
    "\n",
    "print(model_cv.best_score_)\n",
    "print(model_cv.best_params_)"
   ]
  },
  {
   "cell_type": "code",
   "execution_count": 258,
   "metadata": {},
   "outputs": [
    {
     "name": "stdout",
     "output_type": "stream",
     "text": [
      "-3.1665774222207443\n",
      "{'learning_rate': 0.05, 'max_depth': 12, 'max_features': 3, 'subsample': 0.5}\n"
     ]
    }
   ],
   "source": [
    "# second gridsearch\n",
    "model = GradientBoostingRegressor(loss='ls', learning_rate=0.1, subsample=1.0, criterion='friedman_mse', max_depth=3,\n",
    "                                  max_features=None, n_iter_no_change=5, random_state=0)\n",
    "parameters = {'learning_rate': [0.05, 0.1, 0.2], 'subsample': [0.5, 0.6, 0.7, 0.8, 0.9],\n",
    "              'max_depth': [6, 8, 10, 12], 'max_features': [2, 3, 4]}\n",
    "model_cv = GridSearchCV(model, parameters, scoring='neg_mean_squared_error', cv=5, n_jobs=5)\n",
    "model_cv.fit(X_train, y_train)\n",
    "\n",
    "print(model_cv.best_score_)\n",
    "print(model_cv.best_params_)"
   ]
  },
  {
   "cell_type": "markdown",
   "metadata": {},
   "source": [
    "Τελικά παρατηρούμε πως τα default loss και criterion ήταν τα καλύτερα, το learning rate είναι 0.05, το μέγιστο βάθος δέντρου 12, ο μέγιστος αριθμός features για έλεγχο είναι 3 και κάθε δέντρο εκπαιδεύεται με τα μισά δεδομένα."
   ]
  },
  {
   "cell_type": "code",
   "execution_count": 271,
   "metadata": {},
   "outputs": [
    {
     "name": "stdout",
     "output_type": "stream",
     "text": [
      "Results for Gradient Boosting:\n",
      "\n",
      "MSE: 2.273\n",
      "MAE: 1.067\n",
      "Time to fit: 0.0947\n",
      "Time to predict: 0.004\n",
      "Percentage of MSE change: -90.4%\n"
     ]
    }
   ],
   "source": [
    "# final model\n",
    "model = GradientBoostingRegressor(loss='ls', learning_rate=0.05, subsample=0.5, criterion='friedman_mse', max_depth=12,\n",
    "                                  max_features=3, n_iter_no_change=5, random_state=0)\n",
    "get_results(model, 'Gradient Boosting', mse_default)"
   ]
  },
  {
   "cell_type": "markdown",
   "metadata": {},
   "source": [
    "# Αποτελέσματα και Σύγκριση"
   ]
  },
  {
   "cell_type": "markdown",
   "metadata": {},
   "source": [
    "### Χρόνοι εκτέλεσης"
   ]
  },
  {
   "cell_type": "markdown",
   "metadata": {},
   "source": [
    "Παρακάτω φαίνεται ο πίνακας με τους χρόνους εκπαίδευσης και πρόβλεψης των τελικών μοντέλων σε δευτερόλεπτα. Όπως ήταν αναμενόμενο το Random Forest είναι το πιο αργό και στις δύο περιπτώσεις, ενώ τα γραμμικά μοντέλα τα πιο γρήγορα με σχεδόν μηδενικό χρόνο πρόβλεψης. Οι χρόνοι του Decision Tree και Gradient Boosting είναι κάπου στη μέση."
   ]
  },
  {
   "cell_type": "code",
   "execution_count": 272,
   "metadata": {},
   "outputs": [
    {
     "data": {
      "text/html": [
       "<div>\n",
       "<style scoped>\n",
       "    .dataframe tbody tr th:only-of-type {\n",
       "        vertical-align: middle;\n",
       "    }\n",
       "\n",
       "    .dataframe tbody tr th {\n",
       "        vertical-align: top;\n",
       "    }\n",
       "\n",
       "    .dataframe thead th {\n",
       "        text-align: right;\n",
       "    }\n",
       "</style>\n",
       "<table border=\"1\" class=\"dataframe\">\n",
       "  <thead>\n",
       "    <tr style=\"text-align: right;\">\n",
       "      <th></th>\n",
       "      <th>Fit Time</th>\n",
       "      <th>Predict Time</th>\n",
       "    </tr>\n",
       "  </thead>\n",
       "  <tbody>\n",
       "    <tr>\n",
       "      <th>Ordinary Least Squares</th>\n",
       "      <td>0.0010</td>\n",
       "      <td>0.0000</td>\n",
       "    </tr>\n",
       "    <tr>\n",
       "      <th>Lasso</th>\n",
       "      <td>0.0010</td>\n",
       "      <td>0.0000</td>\n",
       "    </tr>\n",
       "    <tr>\n",
       "      <th>Ridge</th>\n",
       "      <td>0.0020</td>\n",
       "      <td>0.0000</td>\n",
       "    </tr>\n",
       "    <tr>\n",
       "      <th>SGD</th>\n",
       "      <td>0.0010</td>\n",
       "      <td>0.0000</td>\n",
       "    </tr>\n",
       "    <tr>\n",
       "      <th>Decision Tree</th>\n",
       "      <td>0.0160</td>\n",
       "      <td>0.0010</td>\n",
       "    </tr>\n",
       "    <tr>\n",
       "      <th>Random Forest</th>\n",
       "      <td>0.3967</td>\n",
       "      <td>0.1091</td>\n",
       "    </tr>\n",
       "    <tr>\n",
       "      <th>Gradient Boosting</th>\n",
       "      <td>0.0947</td>\n",
       "      <td>0.0040</td>\n",
       "    </tr>\n",
       "  </tbody>\n",
       "</table>\n",
       "</div>"
      ],
      "text/plain": [
       "                        Fit Time  Predict Time\n",
       "Ordinary Least Squares    0.0010        0.0000\n",
       "Lasso                     0.0010        0.0000\n",
       "Ridge                     0.0020        0.0000\n",
       "SGD                       0.0010        0.0000\n",
       "Decision Tree             0.0160        0.0010\n",
       "Random Forest             0.3967        0.1091\n",
       "Gradient Boosting         0.0947        0.0040"
      ]
     },
     "execution_count": 272,
     "metadata": {},
     "output_type": "execute_result"
    }
   ],
   "source": [
    "times"
   ]
  },
  {
   "cell_type": "markdown",
   "metadata": {},
   "source": [
    "### Μεταβολή Επίδοσης"
   ]
  },
  {
   "cell_type": "markdown",
   "metadata": {},
   "source": [
    "Παρακάτω φαίνεται ο πίνακας με την ποσοστιαία μεταβολή του σφάλματος MSE πριν και μετά την βελτιστοποίηση των μοντέλων. Τα γραμμικά μοντέλα βλέπουμε πως παραδόξως έχουν μια πολύ μικρή αύξηση του σφάλματος. Σε αντίθεση, τα μοντέλα βασισμένα σε δέντρα έχουν μεγάλη μείωση σφάλματος μετά τη βελτιστοποίηση, ειδικά το Random Forest και το Gradient Boosting. "
   ]
  },
  {
   "cell_type": "code",
   "execution_count": 273,
   "metadata": {},
   "outputs": [
    {
     "data": {
      "text/html": [
       "<div>\n",
       "<style scoped>\n",
       "    .dataframe tbody tr th:only-of-type {\n",
       "        vertical-align: middle;\n",
       "    }\n",
       "\n",
       "    .dataframe tbody tr th {\n",
       "        vertical-align: top;\n",
       "    }\n",
       "\n",
       "    .dataframe thead th {\n",
       "        text-align: right;\n",
       "    }\n",
       "</style>\n",
       "<table border=\"1\" class=\"dataframe\">\n",
       "  <thead>\n",
       "    <tr style=\"text-align: right;\">\n",
       "      <th></th>\n",
       "      <th>% MSE change</th>\n",
       "    </tr>\n",
       "  </thead>\n",
       "  <tbody>\n",
       "    <tr>\n",
       "      <th>Ordinary Least Squares</th>\n",
       "      <td>0.00</td>\n",
       "    </tr>\n",
       "    <tr>\n",
       "      <th>Lasso</th>\n",
       "      <td>0.01</td>\n",
       "    </tr>\n",
       "    <tr>\n",
       "      <th>Ridge</th>\n",
       "      <td>0.11</td>\n",
       "    </tr>\n",
       "    <tr>\n",
       "      <th>SGD</th>\n",
       "      <td>0.65</td>\n",
       "    </tr>\n",
       "    <tr>\n",
       "      <th>Decision Tree</th>\n",
       "      <td>-68.29</td>\n",
       "    </tr>\n",
       "    <tr>\n",
       "      <th>Random Forest</th>\n",
       "      <td>-85.64</td>\n",
       "    </tr>\n",
       "    <tr>\n",
       "      <th>Gradient Boosting</th>\n",
       "      <td>-90.40</td>\n",
       "    </tr>\n",
       "  </tbody>\n",
       "</table>\n",
       "</div>"
      ],
      "text/plain": [
       "                        % MSE change\n",
       "Ordinary Least Squares          0.00\n",
       "Lasso                           0.01\n",
       "Ridge                           0.11\n",
       "SGD                             0.65\n",
       "Decision Tree                 -68.29\n",
       "Random Forest                 -85.64\n",
       "Gradient Boosting             -90.40"
      ]
     },
     "execution_count": 273,
     "metadata": {},
     "output_type": "execute_result"
    }
   ],
   "source": [
    "mse_change"
   ]
  },
  {
   "cell_type": "markdown",
   "metadata": {},
   "source": [
    "### Μετρικές Αξιολόγησης"
   ]
  },
  {
   "cell_type": "markdown",
   "metadata": {},
   "source": [
    "Στον παρακάτω πίνακα και barplot φαίνονται οι αξιολογήσεις των μοντέλων στο test set με τα κριτήρια MSE (Mean Squared Error) και MAE (Mean Absolute Error). Βλέπουμε πως γραμμικά μοντέλα έχουν πολύ παρόμοια αποτελέσματα και μάλιστα όχι καλά, άρα οδηγούμαστε στο συμπέρασμα πως τα δεδομένα μας χρειάζονται πιο περίπλοκη μοντελοποίηση. Πράγματι, οι δενδρικές δομές τα πήγαν αρκετά καλά, ειδικά τα ensemble μοντέλα Random Forest και Gradient Boosting όπως και ήταν αναμενόμενο. Το Gradient Boosting, φυσικά είχε τα μικρότερα σφάλματα. Άλλωστε δεν είναι τυχαίο πως σε tabulat data μοντέλα βασισμένα σε Gradient Boostin βγαίνουν στις top θέσεις των διαγωνισμών."
   ]
  },
  {
   "cell_type": "code",
   "execution_count": 274,
   "metadata": {},
   "outputs": [
    {
     "data": {
      "text/html": [
       "<div>\n",
       "<style scoped>\n",
       "    .dataframe tbody tr th:only-of-type {\n",
       "        vertical-align: middle;\n",
       "    }\n",
       "\n",
       "    .dataframe tbody tr th {\n",
       "        vertical-align: top;\n",
       "    }\n",
       "\n",
       "    .dataframe thead th {\n",
       "        text-align: right;\n",
       "    }\n",
       "</style>\n",
       "<table border=\"1\" class=\"dataframe\">\n",
       "  <thead>\n",
       "    <tr style=\"text-align: right;\">\n",
       "      <th></th>\n",
       "      <th>MSE</th>\n",
       "      <th>MAE</th>\n",
       "    </tr>\n",
       "  </thead>\n",
       "  <tbody>\n",
       "    <tr>\n",
       "      <th>Ordinary Least Squares</th>\n",
       "      <td>23.688</td>\n",
       "      <td>3.776</td>\n",
       "    </tr>\n",
       "    <tr>\n",
       "      <th>Lasso</th>\n",
       "      <td>23.690</td>\n",
       "      <td>3.777</td>\n",
       "    </tr>\n",
       "    <tr>\n",
       "      <th>Ridge</th>\n",
       "      <td>23.713</td>\n",
       "      <td>3.781</td>\n",
       "    </tr>\n",
       "    <tr>\n",
       "      <th>SGD</th>\n",
       "      <td>23.842</td>\n",
       "      <td>3.879</td>\n",
       "    </tr>\n",
       "    <tr>\n",
       "      <th>Decision Tree</th>\n",
       "      <td>7.512</td>\n",
       "      <td>2.075</td>\n",
       "    </tr>\n",
       "    <tr>\n",
       "      <th>Random Forest</th>\n",
       "      <td>3.402</td>\n",
       "      <td>1.362</td>\n",
       "    </tr>\n",
       "    <tr>\n",
       "      <th>Gradient Boosting</th>\n",
       "      <td>2.273</td>\n",
       "      <td>1.067</td>\n",
       "    </tr>\n",
       "  </tbody>\n",
       "</table>\n",
       "</div>"
      ],
      "text/plain": [
       "                           MSE    MAE\n",
       "Ordinary Least Squares  23.688  3.776\n",
       "Lasso                   23.690  3.777\n",
       "Ridge                   23.713  3.781\n",
       "SGD                     23.842  3.879\n",
       "Decision Tree            7.512  2.075\n",
       "Random Forest            3.402  1.362\n",
       "Gradient Boosting        2.273  1.067"
      ]
     },
     "execution_count": 274,
     "metadata": {},
     "output_type": "execute_result"
    }
   ],
   "source": [
    "metrics"
   ]
  },
  {
   "cell_type": "code",
   "execution_count": 277,
   "metadata": {},
   "outputs": [
    {
     "data": {
      "image/png": "[encoded data removed]",
      "text/plain": [
       "<Figure size 792x432 with 1 Axes>"
      ]
     },
     "metadata": {},
     "output_type": "display_data"
    }
   ],
   "source": [
    "ax = metrics.plot(kind='barh', figsize=(11, 6))"
   ]
  }
 ],
 "metadata": {
  "kernelspec": {
   "display_name": "Python 3",
   "language": "python",
   "name": "python3"
  },
  "language_info": {
   "codemirror_mode": {
    "name": "ipython",
    "version": 3
   },
   "file_extension": ".py",
   "mimetype": "text/x-python",
   "name": "python",
   "nbconvert_exporter": "python",
   "pygments_lexer": "ipython3",
   "version": "3.7.4"
  }
 },
 "nbformat": 4,
 "nbformat_minor": 4
}
